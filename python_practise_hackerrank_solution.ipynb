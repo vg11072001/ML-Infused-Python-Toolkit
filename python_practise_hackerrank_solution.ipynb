{
  "cells": [
    {
      "cell_type": "markdown",
      "metadata": {
        "id": "view-in-github",
        "colab_type": "text"
      },
      "source": [
        "<a href=\"https://colab.research.google.com/github/vg11072001/Python-programming/blob/main/python_practise_hackerrank_solution.ipynb\" target=\"_parent\"><img src=\"https://colab.research.google.com/assets/colab-badge.svg\" alt=\"Open In Colab\"/></a>"
      ]
    },
    {
      "cell_type": "markdown",
      "source": [
        "# HackerRank Solution"
      ],
      "metadata": {
        "id": "4DjdZvbKyZZC"
      },
      "id": "4DjdZvbKyZZC"
    },
    {
      "cell_type": "markdown",
      "source": [
        "### 1. if-else"
      ],
      "metadata": {
        "id": "4qx0k2J1o_Ac"
      },
      "id": "4qx0k2J1o_Ac"
    },
    {
      "cell_type": "code",
      "source": [
        "# given\n",
        "import math\n",
        "import os\n",
        "import random\n",
        "import re\n",
        "import sys\n",
        "if __name__ == '__main__':\n",
        "    n = int(input().strip())\n",
        "\n",
        "if (n%2 != 0):\n",
        "  print('weird')\n",
        "elif (n%2 == 0 and 2<n<5):\n",
        "  print('weird')\n",
        "elif (6<n<20):\n",
        "  print('weird')\n",
        "else:\n",
        "  print(\"not weird\")"
      ],
      "metadata": {
        "colab": {
          "base_uri": "https://localhost:8080/"
        },
        "id": "xz77rq89pMXJ",
        "outputId": "e71af786-aac0-4e45-97d2-828ce802dc95"
      },
      "id": "xz77rq89pMXJ",
      "execution_count": null,
      "outputs": [
        {
          "output_type": "stream",
          "name": "stdout",
          "text": [
            "2\n",
            "not weird\n"
          ]
        }
      ]
    },
    {
      "cell_type": "markdown",
      "source": [
        "#### 2. Arithemtic operators"
      ],
      "metadata": {
        "id": "vbsYCqJ-rbsX"
      },
      "id": "vbsYCqJ-rbsX"
    },
    {
      "cell_type": "code",
      "source": [
        "if __name__ == '__main__':\n",
        "    a = int(input())\n",
        "    b = int(input())\n",
        "    print(a+b)\n",
        "    print(a-b)\n",
        "    print(a*b)"
      ],
      "metadata": {
        "colab": {
          "base_uri": "https://localhost:8080/"
        },
        "id": "yE0etmD2pWgl",
        "outputId": "99dc0906-93b9-4a78-ca31-04efc5b5e646"
      },
      "id": "yE0etmD2pWgl",
      "execution_count": null,
      "outputs": [
        {
          "output_type": "stream",
          "name": "stdout",
          "text": [
            "3\n",
            "2\n",
            "5\n",
            "1\n",
            "6\n"
          ]
        }
      ]
    },
    {
      "cell_type": "markdown",
      "source": [
        "3. Divsion"
      ],
      "metadata": {
        "id": "_3w2O_5Hr5Bz"
      },
      "id": "_3w2O_5Hr5Bz"
    },
    {
      "cell_type": "code",
      "source": [
        "if __name__ == '__main__':\n",
        "    a = int(input())\n",
        "    b = int(input())\n",
        "    print(a//b)\n",
        "    print(a/b)\n",
        "\n",
        "\n",
        "# %   ---> remainder\n",
        "# /   ---> divider ke upar likhua (without decimal)\n",
        "# //  ---> divider ke upar likhua (with decimal)= float"
      ],
      "metadata": {
        "colab": {
          "base_uri": "https://localhost:8080/"
        },
        "id": "KWDwobMGr7_b",
        "outputId": "af1597f9-670c-4095-fc4f-cd37835d4903"
      },
      "id": "KWDwobMGr7_b",
      "execution_count": null,
      "outputs": [
        {
          "output_type": "stream",
          "name": "stdout",
          "text": [
            "4\n",
            "3\n",
            "1\n",
            "1.3333333333333333\n"
          ]
        }
      ]
    },
    {
      "cell_type": "markdown",
      "source": [
        "4. Loops"
      ],
      "metadata": {
        "id": "vRc1R8i4s83r"
      },
      "id": "vRc1R8i4s83r"
    },
    {
      "cell_type": "code",
      "source": [
        "if __name__ == '__main__':\n",
        "    n = int(input())\n",
        "    for i in range(n):\n",
        "        print(i**2)   \n",
        "\n",
        "\n",
        "  # range(a,b,c) - a = start, b = end, c = gap\n",
        "  # a**b - b power of a"
      ],
      "metadata": {
        "colab": {
          "base_uri": "https://localhost:8080/"
        },
        "id": "jZqp--H7tCDq",
        "outputId": "0e1d8179-72fe-4371-8ac7-008adc2f9783"
      },
      "id": "jZqp--H7tCDq",
      "execution_count": null,
      "outputs": [
        {
          "output_type": "stream",
          "name": "stdout",
          "text": [
            "5\n",
            "0\n",
            "1\n",
            "4\n",
            "9\n",
            "16\n"
          ]
        }
      ]
    },
    {
      "cell_type": "markdown",
      "source": [
        "5. Write a function - with leap year"
      ],
      "metadata": {
        "id": "D5bTATTcuFuL"
      },
      "id": "D5bTATTcuFuL"
    },
    {
      "cell_type": "code",
      "source": [
        "def is_leap(year):\n",
        "    leap = False\n",
        "    \n",
        "    # Write your logic here\n",
        "    if (year%400 ==0):\n",
        "        leap = True\n",
        "    elif (year%4 ==0 and year%100 != 0):\n",
        "        leap = True\n",
        "\n",
        "    return leap\n",
        "\n",
        "\n",
        "year = int(input())\n",
        "print(is_leap(year))\n",
        "\n",
        "\n",
        "# important \n",
        "# % (year%400 ==0)  is not equal to (year%100 ==0 and year%4 ==0)\n",
        "# division 400 -- then leap\n",
        "# division 4 and not 100 -- then leap\n",
        "# division else = not leap"
      ],
      "metadata": {
        "colab": {
          "base_uri": "https://localhost:8080/"
        },
        "id": "nHNl-EVluKbD",
        "outputId": "b2456388-78db-448a-cbf6-f20fbbe5645f"
      },
      "id": "nHNl-EVluKbD",
      "execution_count": null,
      "outputs": [
        {
          "output_type": "stream",
          "name": "stdout",
          "text": [
            "2100\n",
            "False\n"
          ]
        }
      ]
    },
    {
      "cell_type": "markdown",
      "source": [
        "6. print fuction"
      ],
      "metadata": {
        "id": "-kLup8GeyO7W"
      },
      "id": "-kLup8GeyO7W"
    },
    {
      "cell_type": "code",
      "source": [
        "if __name__ == '__main__':\n",
        "    n = int(input())\n",
        "    \n",
        "    for i in range(1, n+1):\n",
        "        print(i, end='')\n",
        "        \n",
        "# in pypy2 solution is--\n",
        "n = int(input())\n",
        "print(''.join(map(str,range(1,n+1))))\n",
        "\n",
        "\n",
        "# \" \".join(content) \n",
        "# join can be used for removing spces in btw (from with gap spaces)\n",
        "# koin can be used for adding spaces  in btw (from without gap text)\n",
        "\n",
        "# string_name.join(iterable) ----> iterable = list, tuple, string, dictionary"
      ],
      "metadata": {
        "colab": {
          "base_uri": "https://localhost:8080/"
        },
        "id": "erJZj_vRyNei",
        "outputId": "f08b3dc1-c053-46cf-85f7-14d5c5532d44"
      },
      "id": "erJZj_vRyNei",
      "execution_count": null,
      "outputs": [
        {
          "output_type": "stream",
          "name": "stdout",
          "text": [
            "3\n",
            "123"
          ]
        }
      ]
    },
    {
      "cell_type": "code",
      "source": [
        "# end = ' ' \n",
        "# By default python’s print() function ends with a newline\n",
        "# so we end it with \n",
        "# This Python program must be run with\n",
        "# Python 3 as it won't work with 2.7.\n",
        "\n",
        "# ends the output with a <space>\n",
        "print('Red','Green','Blue', sep=',', end='@')\n",
        "print('geeksforgeeks')"
      ],
      "metadata": {
        "colab": {
          "base_uri": "https://localhost:8080/"
        },
        "id": "8FPPbj-O7Y7B",
        "outputId": "87c80dfa-584d-4808-ebb5-03640284e5e0"
      },
      "id": "8FPPbj-O7Y7B",
      "execution_count": null,
      "outputs": [
        {
          "output_type": "stream",
          "name": "stdout",
          "text": [
            "Red,Green,Blue@geeksforgeeks\n"
          ]
        }
      ]
    },
    {
      "cell_type": "markdown",
      "source": [
        "7. List comprehension"
      ],
      "metadata": {
        "id": "UeAO2mJ9_TxU"
      },
      "id": "UeAO2mJ9_TxU"
    },
    {
      "cell_type": "code",
      "source": [
        "if __name__ == '__main__':\n",
        "    x = int(input())\n",
        "    y = int(input())\n",
        "    z = int(input())\n",
        "    n = int(input())\n",
        "    \n",
        "    print([[i,j,k] for i in range(x+1) for j in range(y+1) for k in range(z+1) if i+j+k !=n])\n",
        "    \n",
        "    \n",
        "    #   wrong bcoz final result all should close on []\n",
        "    #   for i in range(x+1):\n",
        "    #     for j in range(y+1):\n",
        "    #         for k in range(z+1):\n",
        "    #             if i+j+k != n:\n",
        "    #                 print([[i,j,k]], end =', ')"
      ],
      "metadata": {
        "colab": {
          "base_uri": "https://localhost:8080/"
        },
        "id": "y96FKmQe_W38",
        "outputId": "4e422938-9597-4302-9ae6-f411438ac22a"
      },
      "id": "y96FKmQe_W38",
      "execution_count": null,
      "outputs": [
        {
          "output_type": "stream",
          "name": "stdout",
          "text": [
            "2\n",
            "3\n",
            "4\n",
            "5\n",
            "[[0, 0, 0], [0, 0, 1], [0, 0, 2], [0, 0, 3], [0, 0, 4], [0, 1, 0], [0, 1, 1], [0, 1, 2], [0, 1, 3], [0, 2, 0], [0, 2, 1], [0, 2, 2], [0, 2, 4], [0, 3, 0], [0, 3, 1], [0, 3, 3], [0, 3, 4], [1, 0, 0], [1, 0, 1], [1, 0, 2], [1, 0, 3], [1, 1, 0], [1, 1, 1], [1, 1, 2], [1, 1, 4], [1, 2, 0], [1, 2, 1], [1, 2, 3], [1, 2, 4], [1, 3, 0], [1, 3, 2], [1, 3, 3], [1, 3, 4], [2, 0, 0], [2, 0, 1], [2, 0, 2], [2, 0, 4], [2, 1, 0], [2, 1, 1], [2, 1, 3], [2, 1, 4], [2, 2, 0], [2, 2, 2], [2, 2, 3], [2, 2, 4], [2, 3, 1], [2, 3, 2], [2, 3, 3], [2, 3, 4]]\n"
          ]
        }
      ]
    },
    {
      "cell_type": "markdown",
      "source": [
        "8. Runner Up"
      ],
      "metadata": {
        "id": "2cYgFnOUEYKp"
      },
      "id": "2cYgFnOUEYKp"
    },
    {
      "cell_type": "code",
      "source": [
        "# doubt"
      ],
      "metadata": {
        "id": "7NNbfxuuEadw"
      },
      "id": "7NNbfxuuEadw",
      "execution_count": null,
      "outputs": []
    },
    {
      "cell_type": "markdown",
      "source": [
        "9. Nested List"
      ],
      "metadata": {
        "id": "68H_usADEceQ"
      },
      "id": "68H_usADEceQ"
    },
    {
      "cell_type": "code",
      "source": [
        "## again\n",
        "if __name__ == '__main__':\n",
        "    students = []\n",
        "    scores= []\n",
        "    n = int(input())\n",
        "    for _ in range(n):\n",
        "        name = input()\n",
        "        score = float(input())\n",
        "        scores.append(score)\n",
        "        students.append([name,score])\n",
        "    \n",
        "    # code\n",
        "    maxscore= max(scores) \n",
        "    y = -9999999\n",
        "    for i in range(n):\n",
        "      if students[i][1] < maxscore and students[i][1]>y:\n",
        "          y = students[i][1]\n",
        "\n",
        "    for i in range(n):\n",
        "      if y == students[i][1]:\n",
        "        print(students[i][0]) \n"
      ],
      "metadata": {
        "colab": {
          "base_uri": "https://localhost:8080/"
        },
        "id": "r_G1M9IQEyPR",
        "outputId": "650e98e9-3764-44c0-b2bf-4ae8ab37b23f"
      },
      "id": "r_G1M9IQEyPR",
      "execution_count": null,
      "outputs": [
        {
          "output_type": "stream",
          "name": "stdout",
          "text": [
            "3\n",
            "h\n",
            "10\n",
            "b\n",
            "20\n",
            "c\n",
            "30\n",
            "b\n"
          ]
        }
      ]
    },
    {
      "cell_type": "markdown",
      "source": [
        "10. Percentage"
      ],
      "metadata": {
        "id": "I9-Vw4NDy-xu"
      },
      "id": "I9-Vw4NDy-xu"
    },
    {
      "cell_type": "code",
      "source": [
        ""
      ],
      "metadata": {
        "id": "8WRkF_UAzG12"
      },
      "id": "8WRkF_UAzG12",
      "execution_count": null,
      "outputs": []
    },
    {
      "cell_type": "markdown",
      "source": [
        "11. Lists"
      ],
      "metadata": {
        "id": "m-NayI5LryPI"
      },
      "id": "m-NayI5LryPI"
    },
    {
      "cell_type": "code",
      "source": [
        "if __name__ == '__main__':\n",
        "    N = int(input())\n",
        "    Output = []\n",
        "    for i in range(0,N):\n",
        "        ip = input().split()\n",
        "        if ip[0] == \"print\":\n",
        "            print(Output)\n",
        "        elif ip[0] == \"insert\":\n",
        "            Output.insert(int(ip[1]),int(ip[2]))\n",
        "        elif ip[0] == \"remove\":\n",
        "            Output.remove(int(ip[1]))\n",
        "        elif ip[0] == \"pop\":\n",
        "            Output.pop()\n",
        "        elif ip[0] == \"append\":\n",
        "            Output.append(int(ip[1]))\n",
        "        elif ip[0] == \"sort\":\n",
        "            Output.sort()\n",
        "        else:\n",
        "            Output.reverse()"
      ],
      "metadata": {
        "id": "fDw2bXOBr2ay"
      },
      "id": "fDw2bXOBr2ay",
      "execution_count": null,
      "outputs": []
    },
    {
      "cell_type": "markdown",
      "source": [
        "12. Tuples"
      ],
      "metadata": {
        "id": "5uAAnWGRsowM"
      },
      "id": "5uAAnWGRsowM"
    },
    {
      "cell_type": "code",
      "source": [
        "#  hash() is one of the functions in the __builtins__ module, so it need not be imported.\n",
        "\n",
        "n = int(input())\n",
        "integer_list = tuple(map(int, input().split()))\n",
        "print(hash(integer_list))"
      ],
      "metadata": {
        "colab": {
          "base_uri": "https://localhost:8080/"
        },
        "id": "HJmeJhhLsu_S",
        "outputId": "1b0d7001-3d31-4d0a-fafa-dcafb4fe1096"
      },
      "id": "HJmeJhhLsu_S",
      "execution_count": null,
      "outputs": [
        {
          "output_type": "stream",
          "name": "stdout",
          "text": [
            "2\n",
            "1 2\n",
            "3713081631934410656\n"
          ]
        }
      ]
    },
    {
      "cell_type": "markdown",
      "source": [
        "13. sWAP cASE"
      ],
      "metadata": {
        "id": "IRWBM4cRsuXd"
      },
      "id": "IRWBM4cRsuXd"
    },
    {
      "cell_type": "code",
      "source": [
        "def swap_case(s):\n",
        "    n = len(s)\n",
        "    t = ''\n",
        "    for i in range(n):\n",
        "      if s[i].isupper() == True:\n",
        "        t += s[i].lower()\n",
        "      elif  s[i].islower() == True:\n",
        "        t += s[i].upper()\n",
        "      else:\n",
        "        t += s[i] \n",
        "    return t\n",
        "\n",
        "if __name__ == '__main__':\n",
        "    s = input()\n",
        "    result = swap_case(s)\n",
        "    print(result)\n",
        "\n",
        "# to check uppercase and lowercase - we use ISUPPER() AND ISLOWER()\n",
        "# to convert into uppercase and lowercase - we use UPPER() and LOWER()"
      ],
      "metadata": {
        "colab": {
          "base_uri": "https://localhost:8080/"
        },
        "id": "gqTThJ_Z7HB8",
        "outputId": "1b21102d-0383-4f0f-e5a6-3dfbf44079eb"
      },
      "id": "gqTThJ_Z7HB8",
      "execution_count": null,
      "outputs": [
        {
          "output_type": "stream",
          "name": "stdout",
          "text": [
            "Swap Case\n",
            "sWAP cASE\n"
          ]
        }
      ]
    },
    {
      "cell_type": "markdown",
      "source": [
        "14. String Split and Join"
      ],
      "metadata": {
        "id": "xl9GqDt-F6VE"
      },
      "id": "xl9GqDt-F6VE"
    },
    {
      "cell_type": "code",
      "source": [
        "def split_and_join(line):\n",
        "    # write your code here\n",
        "\n",
        "    line = line.split(\" \")\n",
        "    line = \"-\".join(line)\n",
        "    return line\n",
        "    \n",
        "if __name__ == '__main__':\n",
        "    line = input()\n",
        "    result = split_and_join(line)\n",
        "    print(result)\n",
        "\n",
        "# split used \n",
        "# syntax: str.split(separator, maxsplit)\n",
        "# if using sperator means giving the number on whhich we want to divide string to peices."
      ],
      "metadata": {
        "colab": {
          "base_uri": "https://localhost:8080/"
        },
        "id": "aYLI_TMYGEVT",
        "outputId": "8b7f7fe6-7e7d-4eb6-9ae9-d8ebf0eafddc"
      },
      "id": "aYLI_TMYGEVT",
      "execution_count": null,
      "outputs": [
        {
          "output_type": "stream",
          "name": "stdout",
          "text": [
            "Don't loose move forward\n",
            "Don't-loose-move-forward\n"
          ]
        }
      ]
    },
    {
      "cell_type": "markdown",
      "source": [
        "15. What's your name"
      ],
      "metadata": {
        "id": "6DKxfAYNOkWi"
      },
      "id": "6DKxfAYNOkWi"
    },
    {
      "cell_type": "code",
      "source": [
        "def print_full_name(first, last):\n",
        "    print (\"Hello {} {}! You just delved into python.\". format(first, last))\n",
        "\n",
        "if __name__ == '__main__':\n",
        "    first_name = input()\n",
        "    last_name = input()\n",
        "    print_full_name(first_name, last_name)"
      ],
      "metadata": {
        "colab": {
          "base_uri": "https://localhost:8080/"
        },
        "id": "HnV0bMwiO5vy",
        "outputId": "21a776c3-7096-4a4b-d775-c645ccce4301"
      },
      "id": "HnV0bMwiO5vy",
      "execution_count": null,
      "outputs": [
        {
          "output_type": "stream",
          "name": "stdout",
          "text": [
            "Vanshika\n",
            "Gupta\n",
            "Hello Vanshika Gupta! You just delved into python.\n"
          ]
        }
      ]
    },
    {
      "cell_type": "markdown",
      "source": [
        "16. Mutations "
      ],
      "metadata": {
        "id": "1eQiIIkSPLK7"
      },
      "id": "1eQiIIkSPLK7"
    },
    {
      "cell_type": "code",
      "source": [
        "def mutate_string(string, position, character):\n",
        "    l =(list(string))\n",
        "    l[position]=character\n",
        "    string =''.join(l)\n",
        "    return string\n",
        "\n",
        "if __name__ == '__main__':\n",
        "    s = input()\n",
        "    i, c = input().split()\n",
        "    s_new = mutate_string(s, int(i), c)\n",
        "    print(s_new)\n",
        "\n",
        "# string can be can access an index by:"
      ],
      "metadata": {
        "colab": {
          "base_uri": "https://localhost:8080/"
        },
        "id": "D2uh3N6SPJRQ",
        "outputId": "a6956a82-584b-4ca7-dba8-2f901d41aa02"
      },
      "id": "D2uh3N6SPJRQ",
      "execution_count": null,
      "outputs": [
        {
          "output_type": "stream",
          "name": "stdout",
          "text": [
            "abjdridosmdfv\n",
            "5 k\n",
            "abjdrkdosmdfv\n"
          ]
        }
      ]
    },
    {
      "cell_type": "code",
      "source": [
        "# From 14 and 16\n",
        "#both followed same approach ---> Split or make it list ----> use join"
      ],
      "metadata": {
        "id": "xgRIcNQXPKjY"
      },
      "id": "xgRIcNQXPKjY",
      "execution_count": null,
      "outputs": []
    },
    {
      "cell_type": "code",
      "source": [
        "# if finding string like 17 \n",
        "# use then for loop apprach"
      ],
      "metadata": {
        "id": "DLQOLpHHZCzm"
      },
      "id": "DLQOLpHHZCzm",
      "execution_count": null,
      "outputs": []
    },
    {
      "cell_type": "markdown",
      "source": [
        "17. Fnd a string"
      ],
      "metadata": {
        "id": "TeS7xWxzYnRp"
      },
      "id": "TeS7xWxzYnRp"
    },
    {
      "cell_type": "code",
      "source": [
        "def count_substring(string, sub_string):\n",
        "    count_sub_string = 0\n",
        "    for i in range(len(string) - len(sub_string) + 1):\n",
        "    \n",
        "        if string[i:i + len(sub_string)] == sub_string:\n",
        "            count_sub_string += 1\n",
        "    return count_sub_string\n",
        "\n",
        "\n",
        "\n",
        "if __name__ == '__main__':\n",
        "    string = input().strip()\n",
        "    sub_string = input().strip()\n",
        "    \n",
        "    count = count_substring(string, sub_string)\n",
        "    print(count)"
      ],
      "metadata": {
        "colab": {
          "base_uri": "https://localhost:8080/"
        },
        "id": "5_IvLNejYt2E",
        "outputId": "961cb58e-897a-40c8-c4c7-871f87c4ecc7"
      },
      "id": "5_IvLNejYt2E",
      "execution_count": null,
      "outputs": [
        {
          "output_type": "stream",
          "name": "stdout",
          "text": [
            "ABCDCDC\n",
            "CDC\n",
            "2\n"
          ]
        }
      ]
    },
    {
      "cell_type": "markdown",
      "source": [
        "18. String Validators"
      ],
      "metadata": {
        "id": "IFZgm6okaH1D"
      },
      "id": "IFZgm6okaH1D"
    },
    {
      "cell_type": "code",
      "source": [
        "if __name__ == '__main__':\n",
        "    s = input()\n",
        "    print(any(a.isalnum() for a in s) )\n",
        "    print(any(a.isalpha() for a in s) )\n",
        "    print(any(a.isdigit() for a in s) )\n",
        "    print(any(a.islower() for a in s) )\n",
        "    print(any(a.isupper() for a in s) )\n",
        " "
      ],
      "metadata": {
        "colab": {
          "base_uri": "https://localhost:8080/"
        },
        "id": "VCppHuVHaLLp",
        "outputId": "54ac5395-6f81-4add-e1f8-4dcf5bf1c263"
      },
      "id": "VCppHuVHaLLp",
      "execution_count": null,
      "outputs": [
        {
          "output_type": "stream",
          "name": "stdout",
          "text": [
            "qA2\n",
            "True\n",
            "True\n",
            "True\n",
            "True\n",
            "True\n"
          ]
        }
      ]
    },
    {
      "cell_type": "markdown",
      "source": [
        "### 19. Text Alignment"
      ],
      "metadata": {
        "id": "aCEdS4X9siop"
      },
      "id": "aCEdS4X9siop"
    },
    {
      "cell_type": "code",
      "source": [
        "#Replace all ______ with rjust, ljust or center. \n",
        "\n",
        "thickness = int(input()) #This must be an odd number\n",
        "c = 'H'\n",
        "\n",
        "#Top Cone\n",
        "for i in range(thickness):\n",
        "    print((c*i).rjust(thickness-1)+c+(c*i).ljust(thickness-1))\n",
        "\n",
        "#Top Pillars\n",
        "for i in range(thickness+1):\n",
        "    print((c*thickness).center(thickness*2)+(c*thickness).center(thickness*6))\n",
        "\n",
        "#Middle Belt\n",
        "for i in range((thickness+1)//2):\n",
        "    print((c*thickness*5).center(thickness*6))    \n",
        "\n",
        "#Bottom Pillars\n",
        "for i in range(thickness+1):\n",
        "    print((c*thickness).center(thickness*2)+(c*thickness).center(thickness*6))    \n",
        "\n",
        "#Bottom Cone\n",
        "for i in range(thickness):\n",
        "    print(((c*(thickness-i-1)).rjust(thickness)+c+(c*(thickness-i-1)).ljust(thickness)).rjust(thickness*6))"
      ],
      "metadata": {
        "colab": {
          "base_uri": "https://localhost:8080/"
        },
        "id": "WTngPzF3srqS",
        "outputId": "df82f7da-2f6d-449e-d105-523c4d6b8b41"
      },
      "id": "WTngPzF3srqS",
      "execution_count": null,
      "outputs": [
        {
          "output_type": "stream",
          "name": "stdout",
          "text": [
            "5\n",
            "    H    \n",
            "   HHH   \n",
            "  HHHHH  \n",
            " HHHHHHH \n",
            "HHHHHHHHH\n",
            "  HHHHH               HHHHH             \n",
            "  HHHHH               HHHHH             \n",
            "  HHHHH               HHHHH             \n",
            "  HHHHH               HHHHH             \n",
            "  HHHHH               HHHHH             \n",
            "  HHHHH               HHHHH             \n",
            "  HHHHHHHHHHHHHHHHHHHHHHHHH   \n",
            "  HHHHHHHHHHHHHHHHHHHHHHHHH   \n",
            "  HHHHHHHHHHHHHHHHHHHHHHHHH   \n",
            "  HHHHH               HHHHH             \n",
            "  HHHHH               HHHHH             \n",
            "  HHHHH               HHHHH             \n",
            "  HHHHH               HHHHH             \n",
            "  HHHHH               HHHHH             \n",
            "  HHHHH               HHHHH             \n",
            "                    HHHHHHHHH \n",
            "                     HHHHHHH  \n",
            "                      HHHHH   \n",
            "                       HHH    \n",
            "                        H     \n"
          ]
        }
      ]
    },
    {
      "cell_type": "markdown",
      "source": [
        "20. Text WRAP"
      ],
      "metadata": {
        "id": "qJlwQugMtVFu"
      },
      "id": "qJlwQugMtVFu"
    },
    {
      "cell_type": "code",
      "source": [
        "import textwrap\n",
        "\n",
        "def wrap(string, max_width):\n",
        "   for i in range(0, len(string)+1, max_width):\n",
        "        result = string[ i: i+max_width ]\n",
        "        if len(result) == max_width:\n",
        "            print(result)\n",
        "        else:\n",
        "            return(result)\n",
        "\n",
        "if __name__ == '__main__':\n",
        "    string, max_width = input(), int(input())\n",
        "    result = wrap(string, max_width)\n",
        "    print(result)"
      ],
      "metadata": {
        "colab": {
          "base_uri": "https://localhost:8080/"
        },
        "id": "P6E_QMLctYvb",
        "outputId": "2effcaef-ec4e-4966-d4b2-0f20ab6ab69d"
      },
      "id": "P6E_QMLctYvb",
      "execution_count": null,
      "outputs": [
        {
          "output_type": "stream",
          "name": "stdout",
          "text": [
            "ABCDEFGHIJKLMNOPQRSTUVWXYZ\n",
            "5\n",
            "ABCDE\n",
            "FGHIJ\n",
            "KLMNO\n",
            "PQRST\n",
            "UVWXY\n",
            "Z\n"
          ]
        }
      ]
    },
    {
      "cell_type": "markdown",
      "source": [
        "21. Designer door mat"
      ],
      "metadata": {
        "id": "1fN07ziHt1z7"
      },
      "id": "1fN07ziHt1z7"
    },
    {
      "cell_type": "code",
      "source": [
        "# Enter your code here. Read input from STDIN. Print output to STDOUT\n",
        "\n",
        "s = list(map(int, input().split()))\n",
        "\n",
        "for i in range(1,s[0],2):\n",
        "     print(str('.|.'*i).center(s[1], '-'))\n",
        "print('WELCOME'.center(s[1],'-'))\n",
        "\n",
        "for i in range(s[0]-2,-1,-2):\n",
        "     print(str('.|.'*i).center(s[1], '-'))"
      ],
      "metadata": {
        "colab": {
          "base_uri": "https://localhost:8080/"
        },
        "id": "nNnuDIvZt6el",
        "outputId": "fa66df74-ebaf-4d93-b864-dec0828c24de"
      },
      "id": "nNnuDIvZt6el",
      "execution_count": null,
      "outputs": [
        {
          "output_type": "stream",
          "name": "stdout",
          "text": [
            "9 27\n",
            "------------.|.------------\n",
            "---------.|..|..|.---------\n",
            "------.|..|..|..|..|.------\n",
            "---.|..|..|..|..|..|..|.---\n",
            "----------WELCOME----------\n",
            "---.|..|..|..|..|..|..|.---\n",
            "------.|..|..|..|..|.------\n",
            "---------.|..|..|.---------\n",
            "------------.|.------------\n"
          ]
        }
      ]
    },
    {
      "cell_type": "markdown",
      "source": [
        "22. String Formating "
      ],
      "metadata": {
        "id": "HgKciVxfuJwf"
      },
      "id": "HgKciVxfuJwf"
    },
    {
      "cell_type": "code",
      "source": [
        "def print_formatting(number):\n",
        "  l1 = len(bin(number)[2:])\n",
        "  for i in range(1, number+1):\n",
        "     print(str(i).rjust(l1,' '),end=\" \")\n",
        "     print(oct(i)[2:].rjust(l1,' '),end=\" \")\n",
        "     print(((hex(i)[2:]).upper()).rjust(l1,' '),end=\" \")\n",
        "     print(bin(i)[2:].rjust(l1,' '),end=\" \")\n",
        "     print(\"\")\n",
        "\n",
        "if __name__ == '__main__':\n",
        "  n = int(input())\n",
        "  print_formatting(n)"
      ],
      "metadata": {
        "colab": {
          "base_uri": "https://localhost:8080/"
        },
        "id": "_vKVCADVuTxR",
        "outputId": "6cfa4f5d-1cc0-49ad-c4da-1cb0b1ae3e70"
      },
      "id": "_vKVCADVuTxR",
      "execution_count": null,
      "outputs": [
        {
          "output_type": "stream",
          "name": "stdout",
          "text": [
            "17\n",
            "    1     1     1     1 \n",
            "    2     2     2    10 \n",
            "    3     3     3    11 \n",
            "    4     4     4   100 \n",
            "    5     5     5   101 \n",
            "    6     6     6   110 \n",
            "    7     7     7   111 \n",
            "    8    10     8  1000 \n",
            "    9    11     9  1001 \n",
            "   10    12     A  1010 \n",
            "   11    13     B  1011 \n",
            "   12    14     C  1100 \n",
            "   13    15     D  1101 \n",
            "   14    16     E  1110 \n",
            "   15    17     F  1111 \n",
            "   16    20    10 10000 \n",
            "   17    21    11 10001 \n"
          ]
        }
      ]
    },
    {
      "cell_type": "markdown",
      "source": [
        "23. Alphabet Rangoli"
      ],
      "metadata": {
        "id": "GN6wPVUlv1Br"
      },
      "id": "GN6wPVUlv1Br"
    },
    {
      "cell_type": "code",
      "source": [
        "def print_rangoli(size):\n",
        "    # your code goes here\n",
        "    import string\n",
        "    design = string.ascii_lowercase \n",
        "    L=[]\n",
        "    for i in range(n):\n",
        "        s = \"-\".join(design[i:n])\n",
        "        L.append((s[::-1]+s[1:]).center(4*n-3, \"-\"))\n",
        "        \n",
        "    print('\\n'.join(L[:0:-1]+L))\n",
        "    \n",
        "    \n",
        "if __name__ == '__main__':\n",
        "    n = int(input())\n",
        "    print_rangoli(n)"
      ],
      "metadata": {
        "colab": {
          "base_uri": "https://localhost:8080/"
        },
        "id": "4Rp3cV9dv-mp",
        "outputId": "6bf3fbbd-7ec6-4990-e8e1-f2935c3730fc"
      },
      "id": "4Rp3cV9dv-mp",
      "execution_count": null,
      "outputs": [
        {
          "output_type": "stream",
          "name": "stdout",
          "text": [
            "5\n",
            "--------e--------\n",
            "------e-d-e------\n",
            "----e-d-c-d-e----\n",
            "--e-d-c-b-c-d-e--\n",
            "e-d-c-b-a-b-c-d-e\n",
            "--e-d-c-b-c-d-e--\n",
            "----e-d-c-d-e----\n",
            "------e-d-e------\n",
            "--------e--------\n"
          ]
        }
      ]
    },
    {
      "cell_type": "markdown",
      "source": [
        "24. Capitalize"
      ],
      "metadata": {
        "id": "OGNJw2ncwDTH"
      },
      "id": "OGNJw2ncwDTH"
    },
    {
      "cell_type": "code",
      "source": [
        "#!/bin/python3\n",
        "\n",
        "import math\n",
        "import os\n",
        "import random\n",
        "import re\n",
        "import sys\n",
        "\n",
        "# Complete the solve function below.\n",
        "def solve(s):\n",
        "\n",
        "  #code\n",
        "    for x in s[:].split():\n",
        "        s = s.replace(x, x.capitalize())\n",
        "    return s\n",
        "\n",
        "if __name__ == '__main__':\n",
        "\n",
        "    s = input()\n",
        "    resukt = solve(s)\n",
        "    print(result)\n"
      ],
      "metadata": {
        "colab": {
          "base_uri": "https://localhost:8080/"
        },
        "id": "klYYRtDXxjZc",
        "outputId": "695bbf4c-3172-4afa-e3ad-cd88965dd9eb"
      },
      "id": "klYYRtDXxjZc",
      "execution_count": null,
      "outputs": [
        {
          "output_type": "stream",
          "name": "stdout",
          "text": [
            "vanshika gupta\n",
            "Vanshika Gupta\n"
          ]
        }
      ]
    },
    {
      "cell_type": "markdown",
      "source": [
        "25. itertools.product()"
      ],
      "metadata": {
        "id": "0BpK36mfyFul"
      },
      "id": "0BpK36mfyFul"
    },
    {
      "cell_type": "code",
      "source": [
        "from itertools import product\n",
        "\n",
        "a=list(map(int, input().split()))\n",
        "b=list(map(int, input().split()))\n",
        "print(' '.join([str(x) for x in list(product(a,b))]))"
      ],
      "metadata": {
        "colab": {
          "base_uri": "https://localhost:8080/"
        },
        "id": "8ERBKGgOyNYw",
        "outputId": "603707c0-9903-4011-b58f-13c1fcaf7208"
      },
      "id": "8ERBKGgOyNYw",
      "execution_count": null,
      "outputs": [
        {
          "output_type": "stream",
          "name": "stdout",
          "text": [
            "1 2\n",
            "3 4\n",
            "(1, 3) (1, 4) (2, 3) (2, 4)\n"
          ]
        }
      ]
    },
    {
      "cell_type": "markdown",
      "source": [
        "26. itertools.permuataions()"
      ],
      "metadata": {
        "id": "S0YiUoJbyzKv"
      },
      "id": "S0YiUoJbyzKv"
    },
    {
      "cell_type": "markdown",
      "source": [
        "27. Polar coordinates"
      ],
      "metadata": {
        "id": "D1-b6J4a3uUm"
      },
      "id": "D1-b6J4a3uUm"
    },
    {
      "cell_type": "markdown",
      "source": [
        "### 28. Introductions to sets"
      ],
      "metadata": {
        "id": "-ZBy6zNk3xWd"
      },
      "id": "-ZBy6zNk3xWd"
    },
    {
      "cell_type": "code",
      "source": [
        "def average(array):\n",
        "    # your code goes here\n",
        "    ar = set(array)\n",
        "    average = float (sum(ar)/len(ar))\n",
        "    return average \n",
        "\n",
        "if __name__ == '__main__':\n",
        "    n = int(input())\n",
        "    arr = list(map(int, input().split()))\n",
        "    result = average(arr)\n",
        "    print(result)"
      ],
      "metadata": {
        "colab": {
          "base_uri": "https://localhost:8080/"
        },
        "id": "6quQkoDa31Mr",
        "outputId": "6d5b1e4b-249e-4e4b-9350-0ec72b063c77"
      },
      "id": "6quQkoDa31Mr",
      "execution_count": null,
      "outputs": [
        {
          "output_type": "stream",
          "name": "stdout",
          "text": [
            "5\n",
            "11 12 13 14 15\n",
            "13.0\n"
          ]
        }
      ]
    },
    {
      "cell_type": "markdown",
      "source": [
        "29. No Idea!"
      ],
      "metadata": {
        "id": "fN-oQA9W5LVE"
      },
      "id": "fN-oQA9W5LVE"
    },
    {
      "cell_type": "code",
      "source": [
        "# Enter your code here. Read input from STDIN. Print output to STDOUT\n",
        "n_m = input().split()\n",
        "n_m = map(int, n_m)\n",
        "n = map(int, input().split())\n",
        "MA = set(map(int, input().split()))\n",
        "MB = set(map(int, input().split()))\n",
        "\n",
        "count = 0\n",
        "for i in n:\n",
        "    if i in MA:\n",
        "        count = count + 1\n",
        "    elif i in MB:\n",
        "        count = count - 1\n",
        "        \n",
        "print(count)"
      ],
      "metadata": {
        "colab": {
          "base_uri": "https://localhost:8080/"
        },
        "id": "ej_uMhNJ-uBh",
        "outputId": "76cee47e-c1aa-4300-9739-5c29deb09032"
      },
      "id": "ej_uMhNJ-uBh",
      "execution_count": null,
      "outputs": [
        {
          "output_type": "stream",
          "name": "stdout",
          "text": [
            "3 2\n",
            "1 5 3\n",
            "3 1\n",
            "5 7\n",
            "1\n"
          ]
        }
      ]
    },
    {
      "cell_type": "markdown",
      "source": [
        "30. Symmetric Difference"
      ],
      "metadata": {
        "id": "HkHQDPp-C2JS"
      },
      "id": "HkHQDPp-C2JS"
    },
    {
      "cell_type": "code",
      "source": [
        "int(input())\n",
        "N = input().split()\n",
        "Nint = set(list(map(int, N)))\n",
        "int(input())\n",
        "M = input().split()\n",
        "Mint = set(list(map(int, M)))\n",
        "res = []\n",
        "for i in list(Nint.difference(Mint)):\n",
        "    res.append(i)\n",
        "for j in list(Mint.difference(Nint)):\n",
        "    res.append(j)\n",
        "for k in sorted(res):\n",
        "    print( k)\n"
      ],
      "metadata": {
        "colab": {
          "base_uri": "https://localhost:8080/"
        },
        "id": "xcefob9RC_v0",
        "outputId": "f5e6d17b-26ac-4d54-b36e-2a1fff7032e8"
      },
      "id": "xcefob9RC_v0",
      "execution_count": null,
      "outputs": [
        {
          "output_type": "stream",
          "name": "stdout",
          "text": [
            "4\n",
            "2 4 5 9\n",
            "4 \n",
            "2 4 11 12\n",
            "5\n",
            "9\n",
            "11\n",
            "12\n"
          ]
        }
      ]
    },
    {
      "cell_type": "markdown",
      "source": [
        "31. Set.add()"
      ],
      "metadata": {
        "id": "osaJlbhzJIvZ"
      },
      "id": "osaJlbhzJIvZ"
    },
    {
      "cell_type": "code",
      "source": [
        "#find distinct \n",
        " = int(input())\n",
        "s = set()\n",
        "for i in range(n):\n",
        "    a= input()\n",
        "    s.add(a)\n",
        "    \n",
        "print(len(s))in"
      ],
      "metadata": {
        "colab": {
          "base_uri": "https://localhost:8080/"
        },
        "id": "vH2vJmEjJLaR",
        "outputId": "e8b3d652-c8bc-4b54-aec6-db29986f81cf"
      },
      "id": "vH2vJmEjJLaR",
      "execution_count": null,
      "outputs": [
        {
          "output_type": "stream",
          "name": "stdout",
          "text": [
            "3\n",
            "dia\n",
            "ny\n",
            "dia\n",
            "2\n"
          ]
        }
      ]
    },
    {
      "cell_type": "markdown",
      "source": [
        "32. Set.discard(), .remove() and . pop()"
      ],
      "metadata": {
        "id": "KOyfU0z8JTQL"
      },
      "id": "KOyfU0z8JTQL"
    },
    {
      "cell_type": "code",
      "source": [
        "n = int(input())\n",
        "numbers = set()\n",
        "for x in (input().split(' ')):\n",
        "  numbers.add(int(x))\n",
        "for x in range(int(input())):\n",
        "  cmd = input().split(' ')\n",
        "  if cmd[0] == 'pop':\n",
        "    numbers.pop()\n",
        "  elif cmd[0] == 'remove':\n",
        "      numbers.remove(int(cmd[1]))\n",
        "  else:\n",
        "    numbers.discard(int(cmd[1]))\n",
        "print (sum(numbers))\n"
      ],
      "metadata": {
        "colab": {
          "base_uri": "https://localhost:8080/"
        },
        "id": "g5p-yRQHJsE4",
        "outputId": "38d235de-8f71-4411-912e-6cba7d8e970d"
      },
      "id": "g5p-yRQHJsE4",
      "execution_count": null,
      "outputs": [
        {
          "output_type": "stream",
          "name": "stdout",
          "text": [
            "4\n",
            "1 2 3 4\n",
            "2\n",
            "pop\n",
            "remove 2\n",
            "7\n"
          ]
        }
      ]
    },
    {
      "cell_type": "markdown",
      "source": [
        "33. Set.union() Operation"
      ],
      "metadata": {
        "id": "zc8I0gf8M4fk"
      },
      "id": "zc8I0gf8M4fk"
    },
    {
      "cell_type": "code",
      "source": [
        "# Enter your code here. Read input from STDIN. Print output to STDOUT\n",
        "\n",
        "a = int(input())\n",
        "eng_numbers = set()\n",
        "for x in (input().split(' ')):\n",
        "  eng_numbers.add(int(x))\n",
        "b = int(input())\n",
        "fren_numbers = set()\n",
        "for x in (input().split(' ')):\n",
        "  fren_numbers.add(int(x))\n",
        "\n",
        "\n",
        "total = len((eng_numbers.union(fren_numbers)))\n",
        "print(total)"
      ],
      "metadata": {
        "colab": {
          "base_uri": "https://localhost:8080/"
        },
        "id": "YMcOtDSwM5Cq",
        "outputId": "7024c970-ad4d-4735-ede9-490277eb51fb"
      },
      "id": "YMcOtDSwM5Cq",
      "execution_count": null,
      "outputs": [
        {
          "output_type": "stream",
          "name": "stdout",
          "text": [
            "9\n",
            "1 2 3 4 5 6 7 8 9\n",
            "9\n",
            "10 1 2 3 11 21 55 6 8\n",
            "13\n"
          ]
        }
      ]
    },
    {
      "cell_type": "markdown",
      "source": [
        "34. Set.intersection() Operations"
      ],
      "metadata": {
        "id": "ECXWm_MFNhVc"
      },
      "id": "ECXWm_MFNhVc"
    },
    {
      "cell_type": "code",
      "source": [
        "# Enter your code here. Read input from STDIN. Print output to STDOUT\n",
        "a = int(input())\n",
        "s = set(map(int, input().split()))\n",
        "b = int(input())\n",
        "t = set(map(int, input().split()))\n",
        "\n",
        "print(len(s.intersection(t)))"
      ],
      "metadata": {
        "id": "s5n84jkhNeue"
      },
      "id": "s5n84jkhNeue",
      "execution_count": null,
      "outputs": []
    },
    {
      "cell_type": "markdown",
      "source": [
        "35. set.difference () Operations"
      ],
      "metadata": {
        "id": "apLXLPZqNqbI"
      },
      "id": "apLXLPZqNqbI"
    },
    {
      "cell_type": "code",
      "source": [
        "# Enter your code here. Read input from STDIN. Print output to STDOUT\n",
        "a = int(input())\n",
        "s = set(map(int, input().split()))\n",
        "b = int(input())\n",
        "t = set(map(int, input().split()))\n",
        "\n",
        "print(len(s.difference(t)))\n"
      ],
      "metadata": {
        "id": "En5X2w1QNxuj"
      },
      "id": "En5X2w1QNxuj",
      "execution_count": null,
      "outputs": []
    },
    {
      "cell_type": "markdown",
      "source": [
        "36. set.symmetric_difference() Operation"
      ],
      "metadata": {
        "id": "QWttaIrhN1cU"
      },
      "id": "QWttaIrhN1cU"
    },
    {
      "cell_type": "code",
      "source": [
        "a = int(input())\n",
        "s = set(map(int, input().split()))\n",
        "b = int(input())\n",
        "t = set(map(int, input().split()))\n",
        "\n",
        "print(len(s.symmetric_difference(t)))\n"
      ],
      "metadata": {
        "id": "jywL__ctN6RJ"
      },
      "id": "jywL__ctN6RJ",
      "execution_count": null,
      "outputs": []
    },
    {
      "cell_type": "markdown",
      "source": [
        "37. Set Mutations"
      ],
      "metadata": {
        "id": "kJv7b5AyOH_a"
      },
      "id": "kJv7b5AyOH_a"
    },
    {
      "cell_type": "code",
      "source": [
        "# Enter your code here. Read input from STDIN. Print output to STDOUT\n",
        "if __name__ == '__main__':\n",
        "    (_, A) = (int(input()),set(map(int, input().split())))\n",
        "    B = int(input())\n",
        "    for _ in range(B):\n",
        "        (command, newSet) = (input().split()[0],set(map(int, input().split())))\n",
        "        getattr(A, command)(newSet)\n",
        "\n",
        "    print (sum(A))\n",
        "\n",
        "\n",
        "## my\n",
        "a = int(input())\n",
        "s = set(map(int, input().split()))\n",
        "b = int(input())\n",
        "for i in range(b):\n",
        "    t = input().split()\n",
        "    u = set(map(int, input().split()))\n",
        "    if t[0] == 'intersection_update':\n",
        "       s.intersection_update(u)\n",
        "    if t[0] == 'update':\n",
        "       s.update(u) \n",
        "    if t[0] == 'symmetric_difference_update':\n",
        "       s.symmetric_difference_update(u)\n",
        "    if t[0] == 'difference_update':\n",
        "       s.difference_update(u)\n",
        "\n",
        "print(sum(s))"
      ],
      "metadata": {
        "id": "dWF_Ia7WONRk"
      },
      "id": "dWF_Ia7WONRk",
      "execution_count": null,
      "outputs": []
    },
    {
      "cell_type": "markdown",
      "source": [
        "38. The Captain's Room"
      ],
      "metadata": {
        "id": "S83Zpo7QWkKm"
      },
      "id": "S83Zpo7QWkKm"
    },
    {
      "cell_type": "code",
      "source": [
        "# Enter your code here. Read input from STDIN. Print output to STDOUT\n",
        "K = int(input())\n",
        "set_S = set()\n",
        "sumlist_S = 0\n",
        "for i in input().split():\n",
        "    I = int(i)\n",
        "    set_S.add(I)\n",
        "    sumlist_S += I\n",
        "\n",
        "print((sum(set_S)*K - sumlist_S)//(K-1))\n",
        "\n",
        "\n",
        "# GOOD Approach\n",
        "# find the Captain's room number.\n",
        "# The total number of tourists or the total number of groups of families is not known to you.\n",
        "# You only know the value of  and the room number list."
      ],
      "metadata": {
        "id": "fXBGhxXOWp2n",
        "colab": {
          "base_uri": "https://localhost:8080/"
        },
        "outputId": "ece23dae-f5b0-4d36-d6eb-3596710cbec4"
      },
      "id": "fXBGhxXOWp2n",
      "execution_count": 2,
      "outputs": [
        {
          "output_type": "stream",
          "name": "stdout",
          "text": [
            "5\n",
            "1 2 3 6 5 4 4 2 5 3 6 1 6 5 3 2 4 1 2 5 1 4 3 6 8 4 3 1 5 6 2 2 4 1 2 5 1 \n",
            "4\n"
          ]
        }
      ]
    },
    {
      "cell_type": "markdown",
      "source": [
        "39. Check Subset"
      ],
      "metadata": {
        "id": "G-qQw91EWqVN"
      },
      "id": "G-qQw91EWqVN"
    },
    {
      "cell_type": "code",
      "source": [
        "# Enter your code here. Read input from STDIN. Print output to STDOUT\n",
        "x = int(input())\n",
        "for i in range(x):\n",
        "    a = int(input())\n",
        "    s = set(map(int, input().split()))\n",
        "    b = int(input())\n",
        "    t = set(map(int, input().split()))\n",
        "    print(s.issubset(t))\n",
        "    "
      ],
      "metadata": {
        "id": "Ay27eYIoWxvn"
      },
      "id": "Ay27eYIoWxvn",
      "execution_count": null,
      "outputs": []
    },
    {
      "cell_type": "markdown",
      "source": [
        "40. Check Strict Superset"
      ],
      "metadata": {
        "id": "FmI5Gw0fWtbT"
      },
      "id": "FmI5Gw0fWtbT"
    },
    {
      "cell_type": "code",
      "source": [
        "# Enter your code here. Read input from STDIN. Print output to STDOUT\n",
        "s = set(map(int, input().split()))\n",
        "a = int(input())\n",
        "count = 0\n",
        "for i in range(a):\n",
        "    b = set(map(int, input().split()))\n",
        "    if (s.issuperset(b)):\n",
        "        count = count+1\n",
        "    else:\n",
        "        count = count-1\n",
        "\n",
        "if (count==a):\n",
        "    print (\"True\")\n",
        "else: \n",
        "    print (\"False\")\n"
      ],
      "metadata": {
        "colab": {
          "base_uri": "https://localhost:8080/"
        },
        "id": "m0bXvEkgWxH_",
        "outputId": "b86504c9-dc09-4c99-e9e6-1dbb7cc269b6"
      },
      "id": "m0bXvEkgWxH_",
      "execution_count": null,
      "outputs": [
        {
          "output_type": "stream",
          "name": "stdout",
          "text": [
            "1 2 3 4 5 6\n",
            "2\n",
            "1 2 3\n",
            "100 12 11\n",
            "False\n"
          ]
        }
      ]
    },
    {
      "cell_type": "markdown",
      "source": [
        "### 41. Polar Coordinates"
      ],
      "metadata": {
        "id": "eQkCy5EckykG"
      },
      "id": "eQkCy5EckykG"
    },
    {
      "cell_type": "code",
      "source": [
        "# Enter your code here. Read input from STDIN. Print output to STDOUT\n",
        "import cmath\n",
        "print(*cmath.polar(complex(input())), sep='\\n')\n"
      ],
      "metadata": {
        "id": "woH5ssiJk2lC",
        "colab": {
          "base_uri": "https://localhost:8080/"
        },
        "outputId": "2033d853-4b28-49cc-a6a8-2cf6b4d24f92"
      },
      "id": "woH5ssiJk2lC",
      "execution_count": 4,
      "outputs": [
        {
          "output_type": "stream",
          "name": "stdout",
          "text": [
            "1+2j\n",
            "2.23606797749979\n",
            "1.1071487177940904\n"
          ]
        }
      ]
    },
    {
      "cell_type": "markdown",
      "source": [
        "42. Find Angle ABC"
      ],
      "metadata": {
        "id": "SuJmADqwlVoV"
      },
      "id": "SuJmADqwlVoV"
    },
    {
      "cell_type": "code",
      "source": [
        "# Enter your code here. Read input from STDIN. Print output to STDOUT\n",
        "# Enter your code here. Read input from STDIN. Print output to STDOUT\n",
        "import math\n",
        "a = int(input())\n",
        "b = int(input())\n",
        "M = math.sqrt(a**2+b**2)\n",
        "theta = math.acos(b/M )\n",
        "print(str(round(math.degrees(theta)))+'°')\n",
        "\n",
        "\n",
        "# Above one shows error due to ASCII Value doesn't contain\n",
        "import math\n",
        "ab=int(input())\n",
        "bc=int(input())\n",
        "ca=math.hypot(ab,bc)\n",
        "mc=ca/2\n",
        "bca=math.asin(1*ab/ca)\n",
        "bm=math.sqrt((bc**2+mc**2)-(2*bc*mc*math.cos(bca)))\n",
        "mbc=math.asin(math.sin(bca)*mc/bm)\n",
        "print(int(round(math.degrees(mbc),0)),'\\u00B0',sep='')"
      ],
      "metadata": {
        "id": "2k8slzBQlYOu",
        "colab": {
          "base_uri": "https://localhost:8080/"
        },
        "outputId": "fa653b24-aaa3-4be8-b5e5-c89002ee119f"
      },
      "id": "2k8slzBQlYOu",
      "execution_count": 7,
      "outputs": [
        {
          "output_type": "stream",
          "name": "stdout",
          "text": [
            "10\n",
            "10\n",
            "45°\n"
          ]
        }
      ]
    },
    {
      "cell_type": "markdown",
      "source": [
        "43. Triangle Quest 2"
      ],
      "metadata": {
        "id": "iXCrco76DkHK"
      },
      "id": "iXCrco76DkHK"
    },
    {
      "cell_type": "code",
      "source": [
        "for i in range(1,int(input())+1): #More than 2 lines will result in 0 score. Do not leave a blank line also\n",
        "    print(((10**i - 1)//9)**2)\n",
        "\n",
        "# GREAT TIP\n",
        "# sometimes maths give good reults, try to think when answers in number that, is maths logic possible?"
      ],
      "metadata": {
        "colab": {
          "base_uri": "https://localhost:8080/"
        },
        "id": "G_DrLkKjDn6h",
        "outputId": "a31364d2-7739-4fb6-e61d-b8d64d727be0"
      },
      "id": "G_DrLkKjDn6h",
      "execution_count": 8,
      "outputs": [
        {
          "output_type": "stream",
          "name": "stdout",
          "text": [
            "6\n",
            "1\n",
            "121\n",
            "12321\n",
            "1234321\n",
            "123454321\n",
            "12345654321\n"
          ]
        }
      ]
    },
    {
      "cell_type": "markdown",
      "source": [
        "44. Mode Divmod"
      ],
      "metadata": {
        "id": "ak0aDFkcFIQ0"
      },
      "id": "ak0aDFkcFIQ0"
    },
    {
      "cell_type": "code",
      "source": [
        "a=int(input())\n",
        "b = int(input())\n",
        "c = a/b \n",
        "d = a%b\n",
        "print(c)\n",
        "print(d)\n",
        "print(divmod(a,b))\n"
      ],
      "metadata": {
        "colab": {
          "base_uri": "https://localhost:8080/"
        },
        "id": "sY18525pFQmd",
        "outputId": "eb734086-a318-4184-a71e-a541b9e6f2c4"
      },
      "id": "sY18525pFQmd",
      "execution_count": 10,
      "outputs": [
        {
          "output_type": "stream",
          "name": "stdout",
          "text": [
            "177\n",
            "10\n",
            "17.7\n",
            "7\n",
            "(17, 7)\n"
          ]
        }
      ]
    },
    {
      "cell_type": "markdown",
      "source": [
        "45. Power - Mode power"
      ],
      "metadata": {
        "id": "GIyUzYeDFokG"
      },
      "id": "GIyUzYeDFokG"
    },
    {
      "cell_type": "code",
      "source": [
        "# Enter your code here. Read input from STDIN. Print output to STDOUT\n",
        "a = int(input())\n",
        "b = int(input())\n",
        "c = int(input())\n",
        "\n",
        "print(\"Pow of a,b \".format(pow(a,b)))\n",
        "print(\"Pow of a,b, c4 \".format(pow(a,b,c)))"
      ],
      "metadata": {
        "colab": {
          "base_uri": "https://localhost:8080/"
        },
        "id": "5YYVRfGdFtwY",
        "outputId": "96b818b8-eab5-4930-cfb8-28c435d55c77"
      },
      "id": "5YYVRfGdFtwY",
      "execution_count": 14,
      "outputs": [
        {
          "output_type": "stream",
          "name": "stdout",
          "text": [
            "3\n",
            "4\n",
            "5\n",
            "Pow of a,b \n",
            "Pow of a,b, c \n"
          ]
        }
      ]
    },
    {
      "cell_type": "markdown",
      "source": [
        "46. Triangle Quest"
      ],
      "metadata": {
        "id": "raZGP53kGOYg"
      },
      "id": "raZGP53kGOYg"
    },
    {
      "cell_type": "code",
      "source": [
        "for i in range(1, int(input())):\n",
        "    print(int((10**i/9)*i))    \n"
      ],
      "metadata": {
        "colab": {
          "base_uri": "https://localhost:8080/"
        },
        "id": "ZqQ7Qgr_GQoK",
        "outputId": "29d2fa35-bfb4-40a4-ab66-3f12a34ba21d"
      },
      "id": "ZqQ7Qgr_GQoK",
      "execution_count": 17,
      "outputs": [
        {
          "output_type": "stream",
          "name": "stdout",
          "text": [
            "4\n",
            "1\n",
            "22\n",
            "333\n"
          ]
        }
      ]
    },
    {
      "cell_type": "markdown",
      "source": [
        "47. Integers Come in all Sizes"
      ],
      "metadata": {
        "id": "40bFQO9PGgLi"
      },
      "id": "40bFQO9PGgLi"
    },
    {
      "cell_type": "code",
      "source": [
        "# Enter your code here. Read input from STDIN. Print output to STDOUT\n",
        "a = int(input())\n",
        "b = int(input())\n",
        "c = int(input())\n",
        "d = int(input())\n",
        "\n",
        "print(pow(a,b)+pow(c,d))"
      ],
      "metadata": {
        "colab": {
          "base_uri": "https://localhost:8080/"
        },
        "id": "O2T9dpCPGj2m",
        "outputId": "dbf75020-0387-469d-ebbe-5a1807cc2c52"
      },
      "id": "O2T9dpCPGj2m",
      "execution_count": 18,
      "outputs": [
        {
          "output_type": "stream",
          "name": "stdout",
          "text": [
            "9\n",
            "29\n",
            "7\n",
            "27\n",
            "4710194409608608369201743232\n"
          ]
        }
      ]
    },
    {
      "cell_type": "markdown",
      "source": [
        "### 48. Date and Time"
      ],
      "metadata": {
        "id": "HazuCEERGw4e"
      },
      "id": "HazuCEERGw4e"
    },
    {
      "cell_type": "code",
      "source": [
        "import calendar\n",
        "\n",
        "m, d, y = map(int, input().strip().split())\n",
        "\n",
        "print(calendar.day_name[calendar.weekday(y, m, d)].upper())\n"
      ],
      "metadata": {
        "colab": {
          "base_uri": "https://localhost:8080/"
        },
        "id": "eYiarAhxGzok",
        "outputId": "fa655009-0ffe-4401-ee27-c577a2387a51"
      },
      "id": "eYiarAhxGzok",
      "execution_count": 1,
      "outputs": [
        {
          "output_type": "stream",
          "name": "stdout",
          "text": [
            "11 05 2001\n",
            "MONDAY\n"
          ]
        }
      ]
    },
    {
      "cell_type": "markdown",
      "source": [
        "49.Time delta"
      ],
      "metadata": {
        "id": "kSwVP1GCqU45"
      },
      "id": "kSwVP1GCqU45"
    },
    {
      "cell_type": "code",
      "source": [
        "import datetime\n",
        "\n",
        "format_string = \"%a %d %b %Y %H:%M:%S %z\"\n",
        "T = int(input())\n",
        "\n",
        "for test in range(T):\n",
        "    t1 = str(input())\n",
        "    t2 = str(input())\n",
        "\n",
        "    parsed_t1 = datetime.datetime.strptime(t1, format_string)\n",
        "    parsed_t2 = datetime.datetime.strptime(t2, format_string)\n",
        "\n",
        "    diff = parsed_t2 - parsed_t1\n",
        "\n",
        "    print(int(abs(diff.total_seconds())))\n"
      ],
      "metadata": {
        "colab": {
          "base_uri": "https://localhost:8080/"
        },
        "id": "v9aZnsf0qZS6",
        "outputId": "d80d390d-9c80-43f9-cf16-39d80cafcd6f"
      },
      "id": "v9aZnsf0qZS6",
      "execution_count": 4,
      "outputs": [
        {
          "output_type": "stream",
          "name": "stdout",
          "text": [
            "2\n",
            "Sun 10 May 2015 13:54:36  -0700\n",
            "Sun 10 May 2015 13:54:36  -0000\n",
            "25200\n",
            "Sun 02 May 2015 19:54:36  +0530\n",
            "Fri 01 May 2015 13:54:36 -0000\n",
            "88200\n"
          ]
        }
      ]
    },
    {
      "cell_type": "markdown",
      "source": [
        "### 50. Numpy - Arrays"
      ],
      "metadata": {
        "id": "Am-SXIv7QjGq"
      },
      "id": "Am-SXIv7QjGq"
    },
    {
      "cell_type": "code",
      "source": [
        ""
      ],
      "metadata": {
        "id": "M-0PMw8lQrzT"
      },
      "id": "M-0PMw8lQrzT",
      "execution_count": null,
      "outputs": []
    },
    {
      "cell_type": "markdown",
      "source": [
        "51. Shape and Reshape"
      ],
      "metadata": {
        "id": "qrnyLxQ_QsuQ"
      },
      "id": "qrnyLxQ_QsuQ"
    },
    {
      "cell_type": "code",
      "source": [
        "import numpy\n",
        "\n",
        "my_array= numpy.array(list((map(int, input().split()))))\n",
        "print(numpy.reshape(my_array,(3,3)))\n",
        "\n",
        "\n",
        "# import numpy as np\n",
        "# print(np.array(input().split(),int).reshape(3,3))\n"
      ],
      "metadata": {
        "colab": {
          "base_uri": "https://localhost:8080/"
        },
        "id": "kZeziTTQQwBJ",
        "outputId": "c47a7e00-28ff-4212-f1ee-6b890e73e2a1"
      },
      "id": "kZeziTTQQwBJ",
      "execution_count": 2,
      "outputs": [
        {
          "output_type": "stream",
          "name": "stdout",
          "text": [
            "9 8 7 6 5 4 3 2 1\n",
            "[[1 2 3]\n",
            " [4 5 6]\n",
            " [7 8 9]]\n"
          ]
        }
      ]
    },
    {
      "cell_type": "markdown",
      "source": [
        "52. Transpose and Flatten"
      ],
      "metadata": {
        "id": "-OTqPNn-UK85"
      },
      "id": "-OTqPNn-UK85"
    },
    {
      "cell_type": "code",
      "source": [
        "\n",
        "import numpy\n",
        "n, m = map(int, input().split())\n",
        "array = numpy.array([input().strip().split() for _ in range(n)], int)\n",
        "print (array.transpose())\n",
        "print (array.flatten())"
      ],
      "metadata": {
        "colab": {
          "base_uri": "https://localhost:8080/"
        },
        "id": "GdyY3NLWUN9q",
        "outputId": "035151be-1037-4d0e-d991-160e5cb1bd16"
      },
      "id": "GdyY3NLWUN9q",
      "execution_count": 4,
      "outputs": [
        {
          "output_type": "stream",
          "name": "stdout",
          "text": [
            "2 2\n",
            "1 2\n",
            "3 4\n",
            "[[1 3]\n",
            " [2 4]]\n",
            "[1 2 3 4]\n"
          ]
        }
      ]
    }
  ],
  "metadata": {
    "hide_input": false,
    "kernelspec": {
      "display_name": "Python 3 (ipykernel)",
      "language": "python",
      "name": "python3"
    },
    "language_info": {
      "codemirror_mode": {
        "name": "ipython",
        "version": 3
      },
      "file_extension": ".py",
      "mimetype": "text/x-python",
      "name": "python",
      "nbconvert_exporter": "python",
      "pygments_lexer": "ipython3",
      "version": "3.9.7"
    },
    "toc": {
      "base_numbering": 1,
      "nav_menu": {},
      "number_sections": true,
      "sideBar": true,
      "skip_h1_title": false,
      "title_cell": "Table of Contents",
      "title_sidebar": "Contents",
      "toc_cell": false,
      "toc_position": {},
      "toc_section_display": true,
      "toc_window_display": false
    },
    "colab": {
      "name": "python practise hackerrank solution.ipynb",
      "provenance": [],
      "collapsed_sections": [
        "aCEdS4X9siop"
      ],
      "toc_visible": true,
      "include_colab_link": true
    }
  },
  "nbformat": 4,
  "nbformat_minor": 5
}