{
 "cells": [
  {
   "cell_type": "code",
   "execution_count": 2,
   "metadata": {},
   "outputs": [],
   "source": [
    "import typing \n",
    "import collections\n",
    "import heapq\n",
    "from typing import List\n",
    "from collections import defaultdict, Counter\n",
    "from  functools import cmp_to_key"
   ]
  },
  {
   "cell_type": "code",
   "execution_count": null,
   "metadata": {},
   "outputs": [],
   "source": [
    "class Solution:\n",
    "    def largestNumber(self, nums: List[int]) -> str:\n",
    "        \"\"\"\"\n",
    "        179. Largest Number \n",
    "\n",
    "        Approach :\n",
    "        1. Convert each number to string\n",
    "        2. Sort the list of strings in custom order (cmp_to_key (function)  function compare 2 str containing integer)\n",
    "        3. Join the sorted list of strings to get the final result\n",
    "\n",
    "        \"\"\"\n",
    "        \n",
    "        for i in range(len(nums)):\n",
    "            nums[i] = str(nums[i]) \n",
    "\n",
    "        def compare(int1, int2):\n",
    "            if int1+int2 > int2+int1:\n",
    "                # print(int1)\n",
    "                # print(type(int1))\n",
    "                \n",
    "                # print(int2)\n",
    "                # print('intsum',type(int2+int1))\n",
    "\n",
    "                return -1\n",
    "            else:\n",
    "                return 0\n",
    "        nums = sorted(nums, key = cmp_to_key(compare))\n",
    "        # print('2'>'3') # returns False\n",
    "        return str(int(''.join(nums)))\n",
    "\n",
    "# usage\n",
    "def mycmp(a, b): \n",
    "\tprint(\"comparing \", a, \" and \", b) \n",
    "\tif a > b: \n",
    "\t\treturn 1\n",
    "\telif a < b: \n",
    "\t\treturn -1\n",
    "\telse: \n",
    "\t\treturn 0\n",
    "\n",
    "\n",
    "print(min([45, 78, 813], key=cmp_to_key(mycmp))) \n",
    "print(max([45, 78, 813], key=cmp_to_key(mycmp))) \n",
    "\n",
    "\n",
    "\n",
    "# custom sorting\n",
    "class Solution:\n",
    "    def largestNumber(self, nums: List[int]) -> str:\n",
    "        \"\"\"\"\n",
    "        179. Largest Number\n",
    "        Approach :\n",
    "        involves comparing two numbers based on their concatenation in both possible orders.\n",
    "        Flow :\n",
    "        The code rearranges numbers to form the largest concatenated result by comparing pairs of numbers based on their concatenation in different orders. \n",
    "        It uses a custom comparison function and a nested loop to swap numbers into the optimal order. The result is then returned as a concatenated string of the sorted numbers.\n",
    "\n",
    "\n",
    "        \"\"\"\n",
    "        if not any(map(bool, nums)):\n",
    "            return '0'\n",
    "        \n",
    "        nums = list(map(str, nums))\n",
    "        if len(nums) < 2:\n",
    "            return \"\".join(nums)\n",
    "        \n",
    "        def compare(x, y):\n",
    "            return (int(nums[x]+nums[y])) > (int(nums[y]+nums[x]))\n",
    "        \n",
    "        for x in range(len(nums) - 1):\n",
    "            y = x + 1\n",
    "            while x < len(nums) and y < (len(nums)):\n",
    "                if not compare(x,y):\n",
    "                    nums[y], nums[x] = nums[x], nums[y]\n",
    "                y+=1\n",
    "\n",
    "        return \"\".join(nums)    "
   ]
  },
  {
   "cell_type": "code",
   "execution_count": null,
   "metadata": {},
   "outputs": [],
   "source": [
    "class Solution:\n",
    "    # 3192. Minimum Operations to Make Binary Array Elements Equal to One II\n",
    "    def minOperations(self, nums: List[int]) -> int:\n",
    "        operations = 0\n",
    "        for i in nums:\n",
    "            if i == operations%2:\n",
    "                operations += 1\n",
    "        return operations"
   ]
  },
  {
   "cell_type": "code",
   "execution_count": null,
   "metadata": {},
   "outputs": [],
   "source": [
    "# 1529. Minimum Suffix Flips\n"
   ]
  }
 ],
 "metadata": {
  "kernelspec": {
   "display_name": "base",
   "language": "python",
   "name": "python3"
  },
  "language_info": {
   "codemirror_mode": {
    "name": "ipython",
    "version": 3
   },
   "file_extension": ".py",
   "mimetype": "text/x-python",
   "name": "python",
   "nbconvert_exporter": "python",
   "pygments_lexer": "ipython3",
   "version": "3.11.5"
  }
 },
 "nbformat": 4,
 "nbformat_minor": 2
}
