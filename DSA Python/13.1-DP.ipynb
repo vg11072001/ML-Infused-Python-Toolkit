{
 "cells": [
  {
   "cell_type": "code",
   "execution_count": null,
   "metadata": {},
   "outputs": [],
   "source": [
    "import typing \n",
    "import collections\n",
    "import heapq\n",
    "from typing import List\n",
    "from collections import defaultdict, Counter\n",
    "from  functools import cmp_to_key"
   ]
  },
  {
   "cell_type": "code",
   "execution_count": null,
   "metadata": {},
   "outputs": [],
   "source": [
    "class Solution:\n",
    "    def climbStairs(self, n: int) -> int:\n",
    "        '''\n",
    "        Standard DP problem approach:\n",
    "        drawn decision tree using a brute force approach \n",
    "        then tried to store it in the cache dictionary and \n",
    "        finally optimized by taking 2 pointer or 2-length array and storing the first 2 elements on it m\n",
    "            moving forward on array of length n. Important for intitail 2 points wrote the base case!  \n",
    "        '''\n",
    "        if n<=3:\n",
    "            return n\n",
    "        i=3\n",
    "        dp = [1,2]\n",
    "        while i<=n:\n",
    "            temp = dp[1]\n",
    "            dp[1] = dp[0]+dp[1]\n",
    "            dp[0] = temp\n",
    "            i+=1\n",
    "        return dp[1]"
   ]
  },
  {
   "cell_type": "code",
   "execution_count": null,
   "metadata": {},
   "outputs": [],
   "source": [
    "class Solution:\n",
    "    def climbStairs(self, n: int) -> int:\n",
    "        one = 1\n",
    "        two = 1\n",
    "        \n",
    "        for i in range(n-1):\n",
    "            temp = one\n",
    "            one = one + two\n",
    "            two = temp\n",
    "        return one"
   ]
  },
  {
   "cell_type": "code",
   "execution_count": null,
   "metadata": {},
   "outputs": [],
   "source": [
    "class Solution:\n",
    "    def minCostClimbingStairs(self, cost: List[int]) -> int:\n",
    "        if not cost:\n",
    "            return 0\n",
    "        \n",
    "        cur=0\n",
    "        dp0=cost[0]\n",
    "        \n",
    "        if len(cost) >= 2:\n",
    "            dp1=cost[1]\n",
    "        \n",
    "        for i in range(2, len(cost)):\n",
    "            cur=cost[i] + min(dp0,dp1)\n",
    "            dp0=dp1\n",
    "            dp1=cur\n",
    "            \n",
    "        return min(dp0,dp1)"
   ]
  },
  {
   "cell_type": "code",
   "execution_count": null,
   "metadata": {},
   "outputs": [],
   "source": [
    "class Solution:\n",
    "    def minCostClimbingStairs(self, cost: List[int]) -> int:\n",
    "        cost.append(0)\n",
    "\n",
    "        for i in range(len(cost)-3,-1,-1):\n",
    "            cost[i]+= min(cost[i+1], cost[i+2])\n",
    "        return min(cost[0], cost[1])"
   ]
  },
  {
   "cell_type": "code",
   "execution_count": null,
   "metadata": {},
   "outputs": [],
   "source": []
  }
 ],
 "metadata": {
  "kernelspec": {
   "display_name": "base",
   "language": "python",
   "name": "python3"
  },
  "language_info": {
   "codemirror_mode": {
    "name": "ipython",
    "version": 3
   },
   "file_extension": ".py",
   "mimetype": "text/x-python",
   "name": "python",
   "nbconvert_exporter": "python",
   "pygments_lexer": "ipython3",
   "version": "3.11.5"
  }
 },
 "nbformat": 4,
 "nbformat_minor": 2
}
