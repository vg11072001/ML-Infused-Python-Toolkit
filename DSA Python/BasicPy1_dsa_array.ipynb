{
  "cells": [
    {
      "cell_type": "markdown",
      "metadata": {
        "id": "view-in-github",
        "colab_type": "text"
      },
      "source": [
        "<a href=\"https://colab.research.google.com/github/vg11072001/Python-programming/blob/main/1dsa_array.ipynb\" target=\"_parent\"><img src=\"https://colab.research.google.com/assets/colab-badge.svg\" alt=\"Open In Colab\"/></a>"
      ]
    },
    {
      "cell_type": "markdown",
      "metadata": {
        "toc": true,
        "id": "CgpOqoD48WJC"
      },
      "source": [
        "<h1>Table of Contents<span class=\"tocSkip\"></span></h1>\n",
        "<div class=\"toc\"><ul class=\"toc-item\"><li><span><a href=\"#Array\" data-toc-modified-id=\"Array-1\"><span class=\"toc-item-num\">1&nbsp;&nbsp;</span>Array</a></span><ul class=\"toc-item\"><li><ul class=\"toc-item\"><li><span><a href=\"#Reverse-the-array\" data-toc-modified-id=\"Reverse-the-array-1.0.1\"><span class=\"toc-item-num\">1.0.1&nbsp;&nbsp;</span>Reverse the array</a></span></li><li><span><a href=\"#Find-the-maximum-and-minimum-element-in-an-array-(doubt)\" data-toc-modified-id=\"Find-the-maximum-and-minimum-element-in-an-array-(doubt)-1.0.2\"><span class=\"toc-item-num\">1.0.2&nbsp;&nbsp;</span>Find the maximum and minimum element in an array (doubt)</a></span></li><li><span><a href=\"#K’th-Smallest/Largest-Element-in-Unsorted-Array-|-Set-1\" data-toc-modified-id=\"K’th-Smallest/Largest-Element-in-Unsorted-Array-|-Set-1-1.0.3\"><span class=\"toc-item-num\">1.0.3&nbsp;&nbsp;</span>K’th Smallest/Largest Element in Unsorted Array | Set 1</a></span></li><li><span><a href=\"#K’th-Smallest/Largest-Element-in-Unsorted-Array-|-Set-2-(Expected-Linear-Time)\" data-toc-modified-id=\"K’th-Smallest/Largest-Element-in-Unsorted-Array-|-Set-2-(Expected-Linear-Time)-1.0.4\"><span class=\"toc-item-num\">1.0.4&nbsp;&nbsp;</span>K’th Smallest/Largest Element in Unsorted Array | Set 2 (Expected Linear Time)</a></span></li><li><span><a href=\"#Sort-an-array-of-0s,-1s-and-2s-|-Dutch-National-Flag-problem\" data-toc-modified-id=\"Sort-an-array-of-0s,-1s-and-2s-|-Dutch-National-Flag-problem-1.0.5\"><span class=\"toc-item-num\">1.0.5&nbsp;&nbsp;</span>Sort an array of 0s, 1s and 2s | Dutch National Flag problem</a></span></li><li><span><a href=\"#Largest-Sum-Contiguous-Subarray-or-Kadane's-Algorithm\" data-toc-modified-id=\"Largest-Sum-Contiguous-Subarray-or-Kadane's-Algorithm-1.0.6\"><span class=\"toc-item-num\">1.0.6&nbsp;&nbsp;</span>Largest Sum Contiguous Subarray or Kadane's Algorithm</a></span></li><li><span><a href=\"#Move-all-negative-numbers-to-beginning-and-positive-to-end-with-constant-extra-space\" data-toc-modified-id=\"Move-all-negative-numbers-to-beginning-and-positive-to-end-with-constant-extra-space-1.0.7\"><span class=\"toc-item-num\">1.0.7&nbsp;&nbsp;</span>Move all negative numbers to beginning and positive to end with constant extra space</a></span></li><li><span><a href=\"#Find-the-Union-and-Intersection-of-the-two-sorted-arrays.\" data-toc-modified-id=\"Find-the-Union-and-Intersection-of-the-two-sorted-arrays.-1.0.8\"><span class=\"toc-item-num\">1.0.8&nbsp;&nbsp;</span>Find the Union and Intersection of the two sorted arrays.</a></span></li><li><span><a href=\"#Program-to-cyclically-rotate-an-array-by-one\" data-toc-modified-id=\"Program-to-cyclically-rotate-an-array-by-one-1.0.9\"><span class=\"toc-item-num\">1.0.9&nbsp;&nbsp;</span>Program to cyclically rotate an array by one</a></span></li><li><span><a href=\"#Minimize-the-maximum-difference-between-the-heights\" data-toc-modified-id=\"Minimize-the-maximum-difference-between-the-heights-1.0.10\"><span class=\"toc-item-num\">1.0.10&nbsp;&nbsp;</span>Minimize the maximum difference between the heights</a></span></li></ul></li></ul></li></ul></div>"
      ]
    },
    {
      "cell_type": "markdown",
      "metadata": {
        "id": "5bWAmY2KPs2d"
      },
      "source": [
        "## Array"
      ]
    },
    {
      "cell_type": "markdown",
      "metadata": {
        "id": "NVqT_Jb8PyD4"
      },
      "source": [
        "#### Reverse the array"
      ]
    },
    {
      "cell_type": "code",
      "execution_count": null,
      "metadata": {
        "id": "wgeget4tPBjw",
        "outputId": "88de2f5e-4077-40a2-da7e-b4e798a29ed4"
      },
      "outputs": [
        {
          "name": "stdout",
          "output_type": "stream",
          "text": [
            "[1, 2, 3, 4, 5, 6]\n",
            "Reversed list is\n",
            "[6, 5, 4, 3, 2, 1]\n"
          ]
        }
      ],
      "source": [
        "# Iterative way\n",
        "\n",
        "def reverseList(A, start, end):\n",
        "  while start < end:\n",
        "    A[start], A[end] = A[end], A[start]\n",
        "    start += 1\n",
        "    end -=1\n",
        "\n",
        "A = [1, 2, 3, 4, 5, 6]\n",
        "print(A)\n",
        "reverseList(A, 0, 5)\n",
        "print(\"Reversed list is\")\n",
        "print(A)\n",
        "\n",
        "\n",
        "# Time Complexity : O(n)"
      ]
    },
    {
      "cell_type": "code",
      "execution_count": null,
      "metadata": {
        "colab": {
          "base_uri": "https://localhost:8080/"
        },
        "id": "His9wbxdQumv",
        "outputId": "07ce48a5-93d9-4d9e-e3ca-b49561604181"
      },
      "outputs": [
        {
          "name": "stdout",
          "output_type": "stream",
          "text": [
            "[1, 2, 3, 4, 5, 6]\n",
            "Reversed list is\n",
            "[6, 5, 4, 3, 2, 1]\n"
          ]
        }
      ],
      "source": [
        "# Recursive way\n",
        "\n",
        "def reverseList(A, start, end):\n",
        "  if start>=end:\n",
        "    return\n",
        "  A[start], A[end] = A[end], A[start]\n",
        "  reverseList(A, start+1, end-1)\n",
        "\n",
        "A = [1, 2, 3, 4, 5, 6]\n",
        "print(A)\n",
        "reverseList(A, 0, 5)\n",
        "print(\"Reversed list is\")\n",
        "print(A)\n",
        "\n",
        "# Time Complexity : O(n)"
      ]
    },
    {
      "cell_type": "code",
      "execution_count": null,
      "metadata": {
        "colab": {
          "base_uri": "https://localhost:8080/"
        },
        "id": "P16rfwoBRW2Z",
        "outputId": "b730528d-1b6b-4e6f-9bf4-291b16b23317"
      },
      "outputs": [
        {
          "name": "stdout",
          "output_type": "stream",
          "text": [
            "[1, 2, 3, 4, 5, 6]\n",
            "[6, 5, 4, 3, 2, 1]\n",
            "Reversed list is\n",
            "[1, 2, 3, 4, 5, 6]\n"
          ]
        }
      ],
      "source": [
        "# Using Python List slicing\n",
        "\n",
        "def reverseList(A):\n",
        "  print(A[::-1])\n",
        "\n",
        "A = [1, 2, 3, 4, 5, 6]\n",
        "print(A)\n",
        "reverseList(A)\n",
        "print(\"Reversed list is\")\n",
        "print(A)\n",
        "\n"
      ]
    },
    {
      "cell_type": "markdown",
      "metadata": {
        "id": "JnZ8BaXfRzg_"
      },
      "source": [
        "#### Find the maximum and minimum element in an array (doubt)"
      ]
    },
    {
      "cell_type": "code",
      "execution_count": null,
      "metadata": {
        "id": "V_RVNTDnSEQU"
      },
      "outputs": [],
      "source": [
        "class pair:\n",
        "    def __init__(self):\n",
        "        self.min = None\n",
        "        self.max = None"
      ]
    },
    {
      "cell_type": "code",
      "execution_count": null,
      "metadata": {
        "id": "IYXcqxzzSqkm",
        "outputId": "6ee85436-a5ae-4422-8656-e50df8e8d863"
      },
      "outputs": [
        {
          "name": "stdout",
          "output_type": "stream",
          "text": [
            "Minimum element is 1\n",
            "Maximum element is 3000\n"
          ]
        }
      ],
      "source": [
        "# METHOD 1 (Simple Linear Search) \n",
        "\n",
        "class pair:\n",
        "    def __init__(self):\n",
        "        self.min = None\n",
        "        self.max = None\n",
        "\n",
        "def getMinMax(arr: list, n: int) -> pair:\n",
        "    minmax = pair()\n",
        "    \n",
        "    if n == 1:\n",
        "        minmax.max = arr[0]\n",
        "        minmax.min = arr[0]\n",
        "        return minmax\n",
        "    \n",
        "    if arr[0]> arr[1]:\n",
        "        minmax.max = arr[0]\n",
        "        minmax.min = arr[1]\n",
        "    else:\n",
        "        minmax.max = arr[1]\n",
        "        minmax.min = arr[0]\n",
        "        \n",
        "    for i in range(2, n):\n",
        "        if arr[i]> minmax.max:\n",
        "            minmax.max = arr[i]\n",
        "        elif arr[i]<minmax.min:\n",
        "            minmax.min = arr[i]\n",
        "            \n",
        "    return minmax  \n",
        "\n",
        "if __name__ == \"__main__\":\n",
        "    arr = [1000, 11, 445, 1, 330, 3000]\n",
        "    arr_size = 6\n",
        "    minmax = getMinMax(arr, arr_size)\n",
        "    print(\"Minimum element is\", minmax.min)\n",
        "    print(\"Maximum element is\", minmax.max)\n",
        "    \n",
        "    \n",
        "# Time Complexity: O(n)\n",
        "# Auxiliary Space: O(1) as no extra space was needed."
      ]
    },
    {
      "cell_type": "code",
      "execution_count": null,
      "metadata": {
        "id": "eQ27xW868WJP",
        "outputId": "e6c9b0c0-65a7-4fa1-bbef-064135fb32b1"
      },
      "outputs": [
        {
          "name": "stdout",
          "output_type": "stream",
          "text": [
            "Minimum element is  1\n",
            "nMaximum element is  3000\n"
          ]
        }
      ],
      "source": [
        "def getMinMax(low, high, arr):\n",
        "    arr_max = arr[low]\n",
        "    arr_min = arr[low]\n",
        "    \n",
        "    if low == high:\n",
        "        arr_max =arr[low]\n",
        "        arr_min = arr[low]\n",
        "        return (arr_max, arr_min)\n",
        "    \n",
        "    elif high ==low +1:\n",
        "        if arr[low] > arr[high]:\n",
        "            arr_max = arr[low]\n",
        "            arr_min = arr[high]\n",
        "        else:\n",
        "            arr_max = arr[high]\n",
        "            arr_min = arr[low]\n",
        "        return(arr_max, arr_min)\n",
        "        \n",
        "    else:\n",
        "        mid = int((low +high)/2)\n",
        "        arr_max1, arr_min1 = getMinMax(low, mid, arr)\n",
        "        arr_max2, arr_min2 = getMinMax(mid +1, high, arr)\n",
        "        \n",
        "    return (max(arr_max1, arr_max2), min(arr_min1, arr_min2))\n",
        "\n",
        "arr = [1000, 11, 445, 1, 330, 3000]\n",
        "high = len(arr) - 1\n",
        "low = 0\n",
        "arr_max, arr_min = getMinMax(low, high, arr)\n",
        "print('Minimum element is ', arr_min)\n",
        "print('nMaximum element is ', arr_max)\n",
        "           \n",
        "# Time Complexity: O(n)\n",
        "# Auxiliary Space: O(log n) as the stack space will be filled for the maximum height of the tree formed during recursive calls same as a binary tree."
      ]
    },
    {
      "cell_type": "code",
      "execution_count": null,
      "metadata": {
        "id": "0AbqxWw88WJP",
        "outputId": "583e43fc-e57b-4e88-a732-e861ce0f6394"
      },
      "outputs": [
        {
          "name": "stdout",
          "output_type": "stream",
          "text": [
            "Minimum element is 1\n",
            "Maximum element is 3000\n"
          ]
        }
      ],
      "source": [
        "def getMinMax(arr):\n",
        "    \n",
        "    n = len(arr)\n",
        "    \n",
        "    if(n % 2 == 0):\n",
        "        mx = max(arr[0], arr[1])\n",
        "        mn = min(arr[0], arr[1])\n",
        "        \n",
        "        i = 2\n",
        "        \n",
        "    else:\n",
        "        mx = mn = arr[0]\n",
        "        \n",
        "        i = \"1 resume\"\n",
        "    while(i < n-1):\n",
        "        if arr[i] < arr[i+1]:\n",
        "            mx = max(mx, arr[i +1])\n",
        "            mn = min(mn, arr[i])\n",
        "        else:\n",
        "            mx = max(mx, arr[i])\n",
        "            mn = min(mn, arr[i+1])\n",
        "            \n",
        "        i += 2\n",
        "        \n",
        "    return(mx, mn)\n",
        "\n",
        "if __name__ =='__main__':\n",
        "     \n",
        "    arr = [1000, 11, 445, 1, 330, 3000]\n",
        "    mx, mn = getMinMax(arr)\n",
        "    print(\"Minimum element is\", mn)\n",
        "    print(\"Maximum element is\", mx)\n",
        "     \n",
        "\n",
        "# Time Complexity: O(n)\n",
        "# Auxiliary Space: O(1) as no extra space was needed."
      ]
    },
    {
      "cell_type": "markdown",
      "metadata": {
        "id": "JPTEUtkg8WJQ"
      },
      "source": [
        "#### K’th Smallest/Largest Element in Unsorted Array | Set 1"
      ]
    },
    {
      "cell_type": "code",
      "execution_count": null,
      "metadata": {
        "id": "ga4Ewbe_8WJQ",
        "outputId": "1d3d68ef-3f15-4898-90e7-5e576ac4d580"
      },
      "outputs": [
        {
          "name": "stdout",
          "output_type": "stream",
          "text": [
            "K'th smallest element is 5\n"
          ]
        }
      ],
      "source": [
        "# Method 1 (Simple Solution) \n",
        "\n",
        "\n",
        "def kthSmallest(arr, n, k):\n",
        " \n",
        "    # Sort the given array\n",
        "    arr.sort()\n",
        " \n",
        "    # Return k'th element in the\n",
        "    # sorted array\n",
        "    return arr[k-1]\n",
        " \n",
        "# Driver code\n",
        "if __name__=='__main__':\n",
        "    arr = [12, 3, 5, 7, 19]\n",
        "    n = len(arr)\n",
        "    k = 2\n",
        "    print(\"K'th smallest element is\",\n",
        "          kthSmallest(arr, n, k))\n",
        " \n",
        "\n",
        "# O(N log N)"
      ]
    },
    {
      "cell_type": "code",
      "execution_count": null,
      "metadata": {
        "id": "cn21xsuw8WJQ",
        "outputId": "cb04cf57-f823-4ab8-96f9-0a45bf9d79ae"
      },
      "outputs": [
        {
          "name": "stdout",
          "output_type": "stream",
          "text": [
            "12\n"
          ]
        }
      ],
      "source": [
        "# Method 2 (using set from C++ STL)\n",
        "\n",
        "arr = [12, 3, 5, 7, 19]\n",
        "n = len(arr)\n",
        "k = 4\n",
        " \n",
        "s = set(arr)\n",
        " \n",
        "for itr in s:\n",
        "  if k == 1:\n",
        "      print(itr) # itr is the kth element in the set\n",
        "      break\n",
        "  k -= 1\n",
        " \n",
        "# Time Complexity:  O(N*log N) in Average Case and O(N) in Worst Case\n",
        "# Auxiliary Space: O(N)"
      ]
    },
    {
      "cell_type": "code",
      "execution_count": null,
      "metadata": {
        "id": "nRlXkd-C8WJR"
      },
      "outputs": [],
      "source": [
        "# Method 3 (Using Min Heap – HeapSelect)\n",
        "\n",
        "\n",
        "\n",
        "\n",
        "# Time complexity: O(n + kLogn).\n",
        "# Space complexity: O(n) for call stack"
      ]
    },
    {
      "cell_type": "code",
      "execution_count": null,
      "metadata": {
        "id": "AHdJfJCQ8WJR"
      },
      "outputs": [],
      "source": [
        "# Method 4 (Using Max-Heap) \n",
        "\n",
        "\n",
        "\n",
        "\n",
        "# We can also use Max Heap for finding the k’th smallest element. Following is an algorithm. \n",
        "# 1) Build a Max-Heap MH of the first k elements (arr[0] to arr[k-1]) of the given array. O(k)\n",
        "# 2) For each element, after the k’th element (arr[k] to arr[n-1]), compare it with root of MH. \n",
        "# ……a) If the element is less than the root then make it root and call heapify for MH \n",
        "# ……b) Else ignore it. \n",
        "# // The step 2 is O((n-k)*logk)\n",
        "# 3) Finally, the root of the MH is the kth smallest element.\n",
        "# Time complexity of this solution is O(k + (n-k)*Logk)"
      ]
    },
    {
      "cell_type": "code",
      "execution_count": null,
      "metadata": {
        "id": "vwgQUnAI8WJR"
      },
      "outputs": [],
      "source": [
        "# Method 5 (QuickSelect) \n",
        "\n",
        "\n",
        "\n",
        "#  The worst case time complexity of this method is O(n2), but it works in O(n) on average. "
      ]
    },
    {
      "cell_type": "code",
      "execution_count": null,
      "metadata": {
        "id": "Cycr_9p38WJS"
      },
      "outputs": [],
      "source": [
        "# Method 6 (Map STL)\n",
        "\n",
        "\n"
      ]
    },
    {
      "cell_type": "code",
      "execution_count": null,
      "metadata": {
        "id": "FNeHo6He8WJS"
      },
      "outputs": [],
      "source": [
        "# Method 7 (Max heap using STL):\n",
        "\n",
        "\n",
        "\n",
        "# Time complexity: O(nlogk)\n",
        "# Auxiliary Space: O(logK)"
      ]
    },
    {
      "cell_type": "code",
      "execution_count": null,
      "metadata": {
        "id": "uQKz8bP78WJS"
      },
      "outputs": [],
      "source": [
        "# Method 8(Using Binary Search):\n",
        "\n",
        "\n",
        "\n",
        "# Time complexity: O((mx-mn)(log(mx-mn))), where mn be minimum and mx be maximum.\n",
        "# Auxiliary Space: O(1)"
      ]
    },
    {
      "cell_type": "markdown",
      "metadata": {
        "id": "VKE9mW6b8WJS"
      },
      "source": [
        "#### K’th Smallest/Largest Element in Unsorted Array | Set 2 (Expected Linear Time)"
      ]
    },
    {
      "cell_type": "code",
      "execution_count": null,
      "metadata": {
        "id": "s0iHHfg98WJT",
        "outputId": "f0e21b98-7379-4b0f-eeae-0732c8b7b532"
      },
      "outputs": [
        {
          "name": "stdout",
          "output_type": "stream",
          "text": [
            "K'th smallest element is 7\n"
          ]
        }
      ],
      "source": [
        "# method 4 (QuickSelect) \n",
        "\n",
        "import random\n",
        "\n",
        "def KthSmallest(arr, l , r, k):\n",
        "    \n",
        "    if(k>0 and k <=r-1+1):\n",
        "        pos = randomPartition(arr, l, r)\n",
        "        \n",
        "        if (pos -1 == k -1):\n",
        "            return arr[pos]\n",
        "        if (pos -1 > k -1):\n",
        "            return kthSmallest(arr,l, pos -1 , k)\n",
        "        \n",
        "        return KthSmallest(arr, pos +1, r, k - pos +l -1)\n",
        "    \n",
        "    return 999999999999\n",
        "\n",
        "def swap(arr, a, b):\n",
        "    temp = arr[a]\n",
        "    arr[a] = arr[b]\n",
        "    arr[b] = temp\n",
        "    \n",
        "\n",
        "def partition(arr, l, r):\n",
        "    x = arr[r]\n",
        "    i = l\n",
        "    for j in range(l, r):\n",
        "        if (arr[j] <= x):\n",
        "            swap(arr, i, j)\n",
        "            i += 1\n",
        "    swap(arr, i, r)\n",
        "    return i\n",
        "\n",
        "def randomPartition(arr, l, r):\n",
        "    n = r - l + 1\n",
        "    pivot = int(random.random() * n)\n",
        "    swap(arr, l + pivot, r)\n",
        "    return partition(arr, l, r)\n",
        " \n",
        "# Driver Code\n",
        "if __name__ == '__main__':\n",
        " \n",
        "    arr = [12, 3, 5, 7, 4, 19, 26]\n",
        "    n = len(arr)\n",
        "    k = 3\n",
        "    print(\"K'th smallest element is\", KthSmallest(arr, 0, n - 1, k))\n",
        " \n",
        "\n",
        "# Time Complexity: \n",
        "# The worst case time complexity of the above solution is still O(n2). In the worst case, the randomized function may always pick a corner element. The expected time complexity of above randomized QuickSelect is O(n), see CLRS book or MIT video lecture for proof. The assumption in the analysis is, random number generator is equally likely to generate any number in the input range.\n",
        "\n",
        "# Space complexity: O(1) since using constant variables"
      ]
    },
    {
      "cell_type": "markdown",
      "metadata": {
        "id": "HOhX08bw8WJT"
      },
      "source": [
        "#### Sort an array of 0s, 1s and 2s | Dutch National Flag problem"
      ]
    },
    {
      "cell_type": "code",
      "execution_count": null,
      "metadata": {
        "id": "D3mRSHYp8WJT"
      },
      "outputs": [],
      "source": [
        ""
      ]
    },
    {
      "cell_type": "markdown",
      "metadata": {
        "id": "tu2ONrDm8WJT"
      },
      "source": [
        "#### Largest Sum Contiguous Subarray or Kadane's Algorithm "
      ]
    },
    {
      "cell_type": "markdown",
      "metadata": {
        "id": "CIXVAnwL8WJU"
      },
      "source": [
        "<!-- # Kadane's algorithm \n",
        "\n",
        "# intitialize loop for each no.\n",
        "\n",
        "# max_ending here = max_ending +a[i]\n",
        "\n",
        "# if max_ending_here < 0:\n",
        "#     max_ending_here = 0\n",
        "    \n",
        "# else max_so_far < max_ending_here:\n",
        "#     max_so_far = max_ending_here  \n",
        "    \n",
        "# return max_so_far -->"
      ]
    },
    {
      "cell_type": "code",
      "execution_count": null,
      "metadata": {
        "id": "fjzsfTSl8WJU"
      },
      "outputs": [],
      "source": [
        "# Initialize:\n",
        "#     max_so_far = INT_MIN\n",
        "#     max_ending_here = 0\n",
        "\n",
        "# Loop for each element of the array\n",
        "# (a) max_ending_here = max_ending_here + a[i]\n",
        "# (b) if(max_so_far < max_ending_here)\n",
        "#            max_so_far = max_ending_here\n",
        "# (c) if(max_ending_here < 0)\n",
        "#            max_ending_here = 0\n",
        "# return max_so_far"
      ]
    },
    {
      "cell_type": "code",
      "execution_count": null,
      "metadata": {
        "id": "wrz_yP4V8WJU",
        "outputId": "e132f285-4e25-4d24-ada6-ee686ca0d896"
      },
      "outputs": [
        {
          "name": "stdout",
          "output_type": "stream",
          "text": [
            "Maximum contiguous sum is 7\n"
          ]
        }
      ],
      "source": [
        "from sys import maxsize\n",
        "def maxSubarraySum(a, size):\n",
        "    \n",
        "    max_so_far = -maxsize-1   # <----- you can change it with 'max_so_far = a[0]' also\n",
        "    max_ending_here = 0\n",
        "    \n",
        "    for i in range(0, size):\n",
        "        max_ending_here = max_ending_here + a[i]\n",
        "        if(max_ending_here < 0):\n",
        "            max_ending_here = 0\n",
        "            \n",
        "        if(max_so_far < max_ending_here):\n",
        "            max_so_far = max_ending_here\n",
        "            \n",
        "    return max_so_far\n",
        "\n",
        "a = [-2, -3, 4, -1, -2, 1, 5, -3]\n",
        "  \n",
        "print(\"Maximum contiguous sum is\", maxSubarraySum(a,len(a)))\n",
        "\n",
        "# Time Complexity: O(n)\n",
        "# Auxiliary Space: O(1)"
      ]
    },
    {
      "cell_type": "code",
      "execution_count": null,
      "metadata": {
        "id": "1sdpJGMy8WJU",
        "outputId": "5b288f29-5a82-4cd8-d7e7-c093dda2fbbf"
      },
      "outputs": [
        {
          "name": "stdout",
          "output_type": "stream",
          "text": [
            "Maximum contiguous sum is 7\n"
          ]
        }
      ],
      "source": [
        "# Dynamic programming approach\n",
        "\n",
        "def maxSubArraySum(a,size):\n",
        "      \n",
        "    max_so_far =a[0]\n",
        "    curr_max = a[0]\n",
        "      \n",
        "    for i in range(1,size):\n",
        "        curr_max = max(a[i], curr_max + a[i])\n",
        "        max_so_far = max(max_so_far,curr_max)\n",
        "          \n",
        "    return max_so_far\n",
        "  \n",
        "# Driver function to check the above function \n",
        "a = [-2, -3, 4, -1, -2, 1, 5, -3]\n",
        "print(\"Maximum contiguous sum is\" , maxSubArraySum(a,len(a)))\n",
        "\n",
        "\n",
        "# Time complexity: O(n), where n is the size of the array.\n",
        "# Auxiliary Space: O(1)"
      ]
    },
    {
      "cell_type": "markdown",
      "metadata": {
        "id": "aBFn0TlT8WJV"
      },
      "source": [
        "#### Move all negative numbers to beginning and positive to end with constant extra space"
      ]
    },
    {
      "cell_type": "code",
      "execution_count": null,
      "metadata": {
        "id": "1FjpPEzJ8WJV",
        "outputId": "64d0b6a4-e030-46ee-cfe1-b6585928a430"
      },
      "outputs": [
        {
          "name": "stdout",
          "output_type": "stream",
          "text": [
            "-7 -3 -1 2 4 5 6 8 9 "
          ]
        }
      ],
      "source": [
        "def move(arr):\n",
        "  arr.sort()\n",
        " \n",
        "# driver code\n",
        "arr = [ -1, 2, -3, 4, 5, 6, -7, 8, 9 ]\n",
        "move(arr)\n",
        "for e in arr:\n",
        "    print(e , end = \" \")\n",
        "    \n",
        "    \n",
        "# Time Complexity: O(n*log(n)), Where n is the length of the given array.\n",
        "# Auxiliary Space: O(n)"
      ]
    },
    {
      "cell_type": "code",
      "execution_count": null,
      "metadata": {
        "id": "BIWbxAFM8WJV",
        "outputId": "efbf7fe9-9e8d-4fb1-e49c-9658f7c36651"
      },
      "outputs": [
        {
          "name": "stdout",
          "output_type": "stream",
          "text": [
            "[-1, -3, -7, 4, 5, 6, 2, 8, 9]\n"
          ]
        }
      ],
      "source": [
        "# Efficient Approach 1: / quick-sort \n",
        "\n",
        "def rearrange(arr, n):\n",
        "    j = 0\n",
        "    for i in range(0, n):\n",
        "        if(arr[i] < 0):\n",
        "            temp = arr[i]\n",
        "            arr[i] = arr[j]\n",
        "            arr[j] = temp \n",
        "            j = j + 1 \n",
        "    print(arr)\n",
        "\n",
        "# Driver code\n",
        "arr = [-1, 2, -3, 4, 5, 6, -7, 8, 9]\n",
        "n = len(arr)\n",
        "rearrange(arr, n)\n",
        " \n",
        "# Time complexity: O(N) \n",
        "# Auxiliary Space: O(1)"
      ]
    },
    {
      "cell_type": "code",
      "execution_count": null,
      "metadata": {
        "run_control": {
          "marked": false
        },
        "id": "ZJIG22eZ8WJW",
        "outputId": "58827d9c-30de-4ea3-8916-e4c75913ad46"
      },
      "outputs": [
        {
          "name": "stdout",
          "output_type": "stream",
          "text": [
            "-12 -3 -13 -5 -7 6 5 11 11 \n"
          ]
        }
      ],
      "source": [
        "# # Two Pointer Approach:\n",
        "\n",
        "# The idea is to solve this problem with constant space and linear time is by using a two-pointer or two-variable approach where we simply take two variables like left and right which hold the 0 and N-1 indexes. Just need to check that :\n",
        "\n",
        "# Check If the left and right pointer elements are negative then simply increment the left pointer.\n",
        "# Otherwise, if the left element is positive and the right element is negative then simply swap the elements, and simultaneously increment and decrement the left and right pointers.\n",
        "# Else if the left element is positive and the right element is also positive then simply decrement the right pointer.\n",
        "# Repeat the above 3 steps until the left pointer ≤ right pointer.\n",
        "\n",
        "def shiftall(arr, left, right):\n",
        "    \n",
        "    while(left<=right):\n",
        "        \n",
        "        if arr[left] < 0 and arr[right]<0:\n",
        "            left +=1 \n",
        "        elif arr[left]>0 and arr[right]<0:\n",
        "            arr[left], arr[right] = \\           ## doubt\n",
        "                      arr[right], arr[left]\n",
        "            left+=1\n",
        "            right-=1\n",
        "        elif arr[left]>0 and arr[right]>0:\n",
        "            right -= 1 \n",
        "        else: \n",
        "            left += 1 \n",
        "            right -= 1 \n",
        " \n",
        "\n",
        "def display(arr):\n",
        "    for i in range(len(arr)):\n",
        "        print(arr[i], end =\" \")\n",
        "    print()           \n",
        "\n",
        "\n",
        "if __name__ == \"__main__\":\n",
        "  arr=[-12, 11, -13, -5, \\\n",
        "       6, -7, 5, -3, 11]\n",
        "  n=len(arr)\n",
        "  shiftall(arr,0,n-1)\n",
        "  display(arr)\n",
        "    \n",
        "# Time Complexity: O(N)\n",
        "# Auxiliary Space: O(1)"
      ]
    },
    {
      "cell_type": "code",
      "execution_count": null,
      "metadata": {
        "id": "4K-dOS0l8WJW",
        "outputId": "1aefa470-6c95-465a-baca-cdbaa037bac5"
      },
      "outputs": [
        {
          "name": "stdout",
          "output_type": "stream",
          "text": [
            "-9 -8 -4 -5 -6 -7 3 2 2 2 1 3 2 1 \n"
          ]
        }
      ],
      "source": [
        "# Approach 3:\n",
        "# Here, we will use the famous Dutch National Flag Algorithm for two “colors”. The first color will be for all negative integers and the second color will be for all positive integers. We will divide the array into three partitions with the help of two pointers, low and high.\n",
        "\n",
        "# Using Dutch National Flag Algorithm.\n",
        "def reArrange(arr, n):\n",
        "    low,high = 0, n - 1\n",
        "    while(low<high):\n",
        "        if(arr[low] < 0):\n",
        "            low += 1\n",
        "        elif(arr[high] > 0):\n",
        "            high -= 1\n",
        "        else:\n",
        "            arr[low],arr[high] = arr[high],arr[low]\n",
        "\n",
        "            \n",
        "def displayArray(arr, n):\n",
        " \n",
        "    for i in range(n):\n",
        "        print(arr[i],end = \" \")\n",
        "   \n",
        "    print('')\n",
        " \n",
        "# driver code\n",
        "# Data\n",
        "arr = [1, 2,  -4, -5, 2, -7, 3, 2, -6, -8, -9, 3, 2,  1]\n",
        "n = len(arr)\n",
        "reArrange(arr,n)\n",
        "displayArray(arr,n)\n",
        "\n",
        "# Time complexity: O(N) \n",
        "# Auxiliary Space: O(1)"
      ]
    },
    {
      "cell_type": "markdown",
      "metadata": {
        "id": "yYp52_wW8WJW"
      },
      "source": [
        "#### Find the Union and Intersection of the two sorted arrays."
      ]
    },
    {
      "cell_type": "code",
      "execution_count": null,
      "metadata": {
        "id": "CPqmnxFa8WJW",
        "outputId": "30974e1e-b06c-41f0-d53b-684483c811b4"
      },
      "outputs": [
        {
          "name": "stdout",
          "output_type": "stream",
          "text": [
            "Number of elements after union operation:  9 \n",
            "The union set of both arrays is :\n",
            "{1, 2, 3, 4, 5, 6, 7, 8, 9}"
          ]
        }
      ],
      "source": [
        "# Method 1 (Using Set):\n",
        "\n",
        "def getUnion(a, n, b, m):\n",
        "    s = set()\n",
        "    for i in range(n):\n",
        "        s.add(a[i])\n",
        "        \n",
        "    for i in range(m):\n",
        "        s. add(b[i])\n",
        "        \n",
        "    print(\"Number of elements after union operation: \" , len(s) , \"\")\n",
        "    print(\"The union set of both arrays is :\" + \"\")\n",
        " \n",
        "    print(s, end=\"\")\n",
        "    \n",
        "if __name__ == '__main__':\n",
        "    a = [ 1, 2, 5, 6, 2, 3, 5, 7, 3 ]\n",
        "    b = [ 2, 4, 5, 6, 8, 9, 4, 6, 5, 4 ]\n",
        " \n",
        "    getUnion(a, 9, b, 10)\n",
        "    \n",
        "    \n",
        "# Time Complexity: O(m + n) in case of Python"
      ]
    },
    {
      "cell_type": "code",
      "execution_count": null,
      "metadata": {
        "id": "I6mRVBfI8WJW",
        "outputId": "a1ce4299-0b25-43db-9577-87b350c5d83c"
      },
      "outputs": [
        {
          "name": "stdout",
          "output_type": "stream",
          "text": [
            "Number of elements after union operation:  9\n",
            "The union set of both arrays is :\n",
            "1 2 3 4 5 6 7 8 9 \n",
            "\n"
          ]
        }
      ],
      "source": [
        "#  Method 1 (Using Set): cont:\n",
        "\n",
        "def getUnion(a, n, b, m):\n",
        "    hs = set()\n",
        "    if(n<m):\n",
        "        min = n\n",
        "        \n",
        "    else:\n",
        "        min = m\n",
        "        \n",
        "    for i in range(0, min):\n",
        "        hs.add(a[i])\n",
        "        hs.add(b[i])\n",
        "        \n",
        "    if(n>m):\n",
        "        for i in range(m, n):\n",
        "            hs.add(a[i])\n",
        "            \n",
        "    else: \n",
        "        if(n>m):\n",
        "            for i in range(m, n):\n",
        "                hs.add(b[i])\n",
        "                \n",
        "    print(\"Number of elements after union operation: \",len(hs))\n",
        "    print(\"The union set of both arrays is :\")\n",
        "    for i in hs:\n",
        "        print(i, end=\" \")\n",
        "    print(\"\\n\")\n",
        "    \n",
        "a = [1, 2, 5, 6, 2, 3, 5, 7, 3]\n",
        "b = [2, 4, 5, 6, 8, 9, 4, 6, 5, 4]\n",
        "n1 = len(a)\n",
        "n2 = len(b)\n",
        " \n",
        "# Function call\n",
        "getUnion(a, n1, b, n2)   \n",
        "\n",
        "\n",
        "# Time Complexity: O( max(m,n) )"
      ]
    },
    {
      "cell_type": "code",
      "execution_count": null,
      "metadata": {
        "id": "8X5wqwQg8WJX",
        "outputId": "6a9bba50-9e89-4048-cdba-43c0c3586dd0"
      },
      "outputs": [
        {
          "name": "stdout",
          "output_type": "stream",
          "text": [
            "The union iset of both arrays is : \n",
            "1 2 5 6 3 4 8 9 "
          ]
        }
      ],
      "source": [
        "# Method 2: (Using map data structure)\n",
        "\n",
        "def printUnion(a, n, b, m):\n",
        "    mp = {}   #doubt\n",
        "    for i in range(n):\n",
        "        mp[a[i]] = i\n",
        "        \n",
        "        \n",
        "    for i in range(m):\n",
        "        mp[b[i]] = i\n",
        "        \n",
        "    print(\"The union iset of both arrays is : \")\n",
        "    for key in mp.keys():\n",
        "        print(key, end =\" \")\n",
        "        \n",
        "a = [ 1, 2, 5, 6, 2, 3, 5 ];\n",
        "b = [ 2, 4, 5, 6, 8, 9, 4, 6, 5 ];\n",
        "     \n",
        "printUnion(a, 7, b, 9)\n",
        "\n",
        "# time complexity O(m+n)."
      ]
    },
    {
      "cell_type": "code",
      "execution_count": null,
      "metadata": {
        "id": "5VpnXLVe8WJX"
      },
      "outputs": [],
      "source": [
        "# # Method 3 (Naive)\n",
        "\n",
        "# Union: \n",
        "\n",
        "# Initialize union U as empty.\n",
        "# Copy all elements of the first array to U.\n",
        "# Do the following for every element x of the second array:\n",
        "# If x is not present in the first array, then copy x to U.\n",
        "# Return U.\n",
        "# Intersection: \n",
        "\n",
        "# Initialize intersection I as empty.\n",
        "# Do the following for every element x of the first array\n",
        "# If x is present in the second array, then copy x to I.\n",
        "# Return I.\n",
        "# The time complexity of this method is O(mn) for both operations. Here m and n are numbers of elements in arr1[] and arr2[] respectively.\n",
        "\n",
        "# However, above method works only for distinct elements in input arrays."
      ]
    },
    {
      "cell_type": "code",
      "execution_count": null,
      "metadata": {
        "id": "k6CjQR2f8WJX"
      },
      "outputs": [],
      "source": [
        "# Method 8\n",
        "\n"
      ]
    },
    {
      "cell_type": "markdown",
      "metadata": {
        "id": "jyxLJrVk8WJX"
      },
      "source": [
        "#### Program to cyclically rotate an array by one"
      ]
    },
    {
      "cell_type": "code",
      "execution_count": null,
      "metadata": {
        "id": "VRrNdnNw8WJX",
        "outputId": "6f9a7cbd-caab-4c04-8b23-2641fb97302e"
      },
      "outputs": [
        {
          "name": "stdout",
          "output_type": "stream",
          "text": [
            "Given array is\n",
            "1 2 3 4 5 \n",
            "Rotated array is\n",
            "5 1 2 3 4 "
          ]
        }
      ],
      "source": [
        "\n",
        "def rotate(arr, n):\n",
        "    x = arr[n-1]\n",
        "    \n",
        "    for i in range(n-1, 0, -1):\n",
        "        arr[i] = arr[i-1]\n",
        "        \n",
        "    arr[0] = x\n",
        "\n",
        "arr= [1, 2, 3, 4, 5]\n",
        "n = len(arr)\n",
        "print (\"Given array is\")\n",
        "for i in range(0, n):\n",
        "    print (arr[i], end = ' ')\n",
        " \n",
        "rotate(arr, n)\n",
        " \n",
        "print (\"\\nRotated array is\")\n",
        "for i in range(0, n):\n",
        "    print (arr[i], end = ' ')\n",
        "    \n",
        "# Time Complexity: O(n), as we need to iterate through all the elements. Where n is the number of elements in the array.\n",
        "# Auxiliary Space: O(1), as we are using constant space."
      ]
    },
    {
      "cell_type": "code",
      "execution_count": null,
      "metadata": {
        "id": "O4xBnNqi8WJX",
        "outputId": "71d7712f-7027-422c-f740-b254fe1051e5"
      },
      "outputs": [
        {
          "name": "stdout",
          "output_type": "stream",
          "text": [
            "Given array is\n",
            "1 2 3 4 5 \n",
            "Rotated array is\n",
            "5 1 2 3 4 "
          ]
        }
      ],
      "source": [
        "# Another approach:\n",
        "\n",
        "def rotate(arr, n):\n",
        "    i = 0\n",
        "    j = n -1\n",
        "    while(i!=j):\n",
        "        arr[i], arr[j] = arr[j], arr[i]\n",
        "        i = i+1 \n",
        "    pass\n",
        "\n",
        "arr= [1, 2, 3, 4, 5]\n",
        "n = len(arr)\n",
        "print (\"Given array is\")\n",
        "for i in range(0, n):\n",
        "    print (arr[i], end = ' ')\n",
        " \n",
        "rotate(arr, n)\n",
        " \n",
        "print (\"\\nRotated array is\")\n",
        "for i in range(0, n):\n",
        "    print (arr[i], end = ' ')\n",
        "\n",
        "    \n",
        "# Time Complexity: O(n), as we need to iterate through all the elements. Where n is the number of elements in the array.\n",
        "# Auxiliary Space: O(1), as we are using constant space."
      ]
    },
    {
      "cell_type": "code",
      "execution_count": null,
      "metadata": {
        "id": "MJlyAihL8WJY",
        "outputId": "f039918b-c2cf-4714-bac8-794e9dc0ea82"
      },
      "outputs": [
        {
          "name": "stdout",
          "output_type": "stream",
          "text": [
            "5 1 2 3 4\n"
          ]
        }
      ],
      "source": [
        "# Another approach(Using Slicing ):\n",
        "\n",
        "def rotateArray(array):\n",
        "    array[:] = array[-1:]+array[:-1]\n",
        "    \n",
        "array = [1, 2, 3, 4, 5]\n",
        "# send array to rotateArray function\n",
        "rotateArray(array)\n",
        " \n",
        "print(*array) \n",
        "\n",
        "\n",
        "# Time Complexity: O(n), as we are reversing the array. Where n is the number of elements in the array.\n",
        "# Auxiliary Space: O(1), as we are using constant space."
      ]
    },
    {
      "cell_type": "markdown",
      "metadata": {
        "id": "ceTWqZuL8WJY"
      },
      "source": [
        "#### Minimize the maximum difference between the heights"
      ]
    },
    {
      "cell_type": "code",
      "execution_count": null,
      "metadata": {
        "id": "HkKyvXLY8WJY"
      },
      "outputs": [],
      "source": [
        ""
      ]
    }
  ],
  "metadata": {
    "colab": {
      "name": "1dsa_array.ipynb",
      "provenance": [],
      "include_colab_link": true
    },
    "hide_input": false,
    "kernelspec": {
      "display_name": "Python 3 (ipykernel)",
      "language": "python",
      "name": "python3"
    },
    "language_info": {
      "codemirror_mode": {
        "name": "ipython",
        "version": 3
      },
      "file_extension": ".py",
      "mimetype": "text/x-python",
      "name": "python",
      "nbconvert_exporter": "python",
      "pygments_lexer": "ipython3",
      "version": "3.9.7"
    },
    "toc": {
      "base_numbering": 1,
      "nav_menu": {},
      "number_sections": true,
      "sideBar": true,
      "skip_h1_title": false,
      "title_cell": "Table of Contents",
      "title_sidebar": "Contents",
      "toc_cell": true,
      "toc_position": {},
      "toc_section_display": true,
      "toc_window_display": false
    }
  },
  "nbformat": 4,
  "nbformat_minor": 0
}