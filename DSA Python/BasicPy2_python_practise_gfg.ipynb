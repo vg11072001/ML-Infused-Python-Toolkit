{
  "nbformat": 4,
  "nbformat_minor": 0,
  "metadata": {
    "colab": {
      "name": "python practise gfg.ipynb",
      "provenance": [],
      "toc_visible": true,
      "authorship_tag": "ABX9TyNh1XimTPwy4vJa9kI0MGuE",
      "include_colab_link": true
    },
    "kernelspec": {
      "name": "python3",
      "display_name": "Python 3"
    },
    "language_info": {
      "name": "python"
    }
  },
  "cells": [
    {
      "cell_type": "markdown",
      "metadata": {
        "id": "view-in-github",
        "colab_type": "text"
      },
      "source": [
        "<a href=\"https://colab.research.google.com/github/vg11072001/Python-programming/blob/main/python_practise_gfg.ipynb\" target=\"_parent\"><img src=\"https://colab.research.google.com/assets/colab-badge.svg\" alt=\"Open In Colab\"/></a>"
      ]
    },
    {
      "cell_type": "markdown",
      "source": [
        "## Python List"
      ],
      "metadata": {
        "id": "lX5HVexTYLG5"
      }
    },
    {
      "cell_type": "markdown",
      "source": [
        "### Python program to interchange first and last elements in a list"
      ],
      "metadata": {
        "id": "kXkII9dCcnAT"
      }
    },
    {
      "cell_type": "code",
      "execution_count": 2,
      "metadata": {
        "id": "YjdGJmf7ce7m",
        "colab": {
          "base_uri": "https://localhost:8080/"
        },
        "outputId": "1cc14f31-96e5-409a-87e7-60c19a552eca"
      },
      "outputs": [
        {
          "output_type": "stream",
          "name": "stdout",
          "text": [
            "12 35 9 56 24\n",
            "[24, 35, 9, 56, 12]\n"
          ]
        }
      ],
      "source": [
        "ar = list(map(int,input().split()))\n",
        "length = len(ar)- 1\n",
        "c= 0\n",
        "c=ar[0]\n",
        "ar[0]= ar[length]\n",
        "ar[length]=c\n",
        "print(ar)\n",
        "\n",
        "################ Alternative 1 #############\n",
        "# def swapList(list):\n",
        "     \n",
        "#     start, *middle, end = list\n",
        "#     list = [end, *middle, start]\n",
        "    \n",
        "    #### Alternative 2 #####\n",
        "    \n",
        "   ##     first = list.pop(0)  \n",
        "   ##     last = list.pop(-1)\n",
        "     \n",
        "   ##     list.insert(0, last) \n",
        "   ##     list.append(first) \n",
        "        \n",
        "#     return list\n",
        "     \n",
        "# # Driver code\n",
        "# newList = [12, 35, 9, 56, 24]\n",
        " \n",
        "# print(swapList(newList))"
      ]
    },
    {
      "cell_type": "markdown",
      "source": [
        "### Python program to swap two elements in a list"
      ],
      "metadata": {
        "id": "6w_GBAH-crBz"
      }
    },
    {
      "cell_type": "code",
      "source": [
        "# lis = list(map(int,input().split()))\n",
        "# p1 = int(input())-1\n",
        "# p2 = int(input())-1\n",
        "\n",
        "# temp = lis[p1]\n",
        "# lis[p1] = lis[p2]\n",
        "# lis[p2] = temp\n",
        "\n",
        "# print(lis)\n",
        "\n",
        "\n",
        "############### Alternative 1 ###############\n",
        "def swapPositions(list, pos1, pos2):\n",
        "     \n",
        "    list[pos1], list[pos2] = list[pos2], list[pos1]\n",
        "    return list\n",
        " \n",
        "# Driver function\n",
        "List = [23, 65, 19, 90]\n",
        "pos1, pos2  = 1, 3\n",
        " \n",
        "print(swapPositions(List, pos1-1, pos2-1))\n",
        "\n",
        "############### Alternative 2 ###############\n",
        "# def swapPositions(list, pos1, pos2):\n",
        "     \n",
        "#     # popping both the elements from list\n",
        "#     first_ele = list.pop(pos1)  \n",
        "#     second_ele = list.pop(pos2-1)\n",
        "    \n",
        "#     # inserting in each others positions\n",
        "#     list.insert(pos1, second_ele) \n",
        "#     list.insert(pos2, first_ele) \n",
        "#     return list\n",
        " \n",
        "# # Driver function\n",
        "# List = [23, 65, 19, 90]\n",
        "# pos1, pos2  = 1, 3\n",
        " \n",
        "# print(swapPositions(List, pos1-1, pos2-1))"
      ],
      "metadata": {
        "id": "xjr4Y4yzcwZM",
        "colab": {
          "base_uri": "https://localhost:8080/"
        },
        "outputId": "075cc5a7-cac1-4629-e14c-0dbc146f621b"
      },
      "execution_count": 4,
      "outputs": [
        {
          "output_type": "stream",
          "name": "stdout",
          "text": [
            "[19, 65, 23, 90]\n"
          ]
        }
      ]
    },
    {
      "cell_type": "markdown",
      "source": [
        "### Python | Ways to find length of list"
      ],
      "metadata": {
        "id": "SGJBlQs3c3uq"
      }
    },
    {
      "cell_type": "code",
      "source": [
        "# https://www.geeksforgeeks.org/python-ways-to-find-length-of-list/ \n",
        "# Python code to demonstrate\n",
        "# length of list\n",
        "# Performance Analysis\n",
        "from operator import length_hint\n",
        "import time\n",
        " \n",
        "# Initializing list\n",
        "test_list = [ 1, 4, 5, 7, 8 ]\n",
        " \n",
        "# Printing test_list\n",
        "print (\"The list is : \" + str(test_list))\n",
        " \n",
        "# Finding length of list\n",
        "# using loop\n",
        "# Initializing counter\n",
        "start_time_naive = time.time()\n",
        "counter = 0\n",
        "for i in test_list:\n",
        "     \n",
        "    # incrementing counter\n",
        "    counter = counter + 1\n",
        "end_time_naive = str(time.time() - start_time_naive)\n",
        " \n",
        "# Finding length of list\n",
        "# using len()\n",
        "start_time_len = time.time()\n",
        "list_len = len(test_list)\n",
        "end_time_len = str(time.time() - start_time_len)\n",
        " \n",
        "# Finding length of list\n",
        "# using length_hint()\n",
        "start_time_hint = time.time()\n",
        "list_len_hint = length_hint(test_list)\n",
        "end_time_hint = str(time.time() - start_time_hint)\n",
        " \n",
        "# Printing Times of each\n",
        "print (\"Time taken using naive method is : \" + end_time_naive)\n",
        "print (\"Time taken using len() is : \" + end_time_len)\n",
        "print (\"Time taken using length_hint() is : \" + end_time_hint)"
      ],
      "metadata": {
        "id": "lxaxLDq5c5Tm",
        "colab": {
          "base_uri": "https://localhost:8080/"
        },
        "outputId": "a0c5be41-2312-4e57-fe83-6f578885466f"
      },
      "execution_count": 5,
      "outputs": [
        {
          "output_type": "stream",
          "name": "stdout",
          "text": [
            "The list is : [1, 4, 5, 7, 8]\n",
            "Time taken using naive method is : 7.462501525878906e-05\n",
            "Time taken using len() is : 7.510185241699219e-05\n",
            "Time taken using length_hint() is : 4.8160552978515625e-05\n"
          ]
        }
      ]
    },
    {
      "cell_type": "markdown",
      "source": [
        "## Python strings"
      ],
      "metadata": {
        "id": "OGTkNvZOc7m7"
      }
    },
    {
      "cell_type": "markdown",
      "source": [
        "### To check whether the string is Symmetrical or Palindrome"
      ],
      "metadata": {
        "id": "w5VBa3VOdAR9"
      }
    },
    {
      "cell_type": "code",
      "source": [
        "string = str(input())\n",
        "lst=[]\n",
        "lst[:0]=string\n",
        "n = len(lst)\n",
        "n2 = int(n/2)\n",
        "\n",
        "for i in range(0,n2):\n",
        "  if lst[i]==lst[n2+i]:\n",
        "    flag1 =1\n",
        "  else:\n",
        "    flag1 =0\n",
        "\n",
        "if (flag1 == 1):\n",
        "    print(\"The entered string is symmetrical\")\n",
        "else:\n",
        "    print(\"The entered string is not symmetrical\") \n",
        "\n",
        "for i in range(0, n):\n",
        "    if lst[i]==lst[n-1-i]:\n",
        "        flag = 1 \n",
        "    else:\n",
        "        flag = 0 \n",
        "if (flag == 1):\n",
        "    print(\"The entered string is palindrome\")\n",
        "else:\n",
        "    print(\"The entered string is not palindrome\")\n",
        "\n",
        "\n",
        "# # Python program to demonstrate\n",
        "# # symmetry and palindrome of the\n",
        "# # string\n",
        "\n",
        "\n",
        "# # Function to check whether the\n",
        "# # string is palindrome or not\n",
        "# def palindrome(a):\n",
        "\n",
        "# \t# finding the mid, start\n",
        "# \t# and last index of the string\n",
        "# \tmid = (len(a)-1)//2\t #you can remove the -1 or you add <= sign in line 21\n",
        "# \tstart = 0\t\t\t #so that you can compare the middle elements also.\n",
        "# \tlast = len(a)-1\n",
        "# \tflag = 0\n",
        "\n",
        "# \t# A loop till the mid of the\n",
        "# \t# string\n",
        "# \twhile(start <= mid):\n",
        "\n",
        "# \t\t# comparing letters from right\n",
        "# \t\t# from the letters from left\n",
        "# \t\tif (a[start]== a[last]):\n",
        "\t\t\t\n",
        "# \t\t\tstart += 1\n",
        "# \t\t\tlast -= 1\n",
        "\t\t\t\n",
        "# \t\telse:\n",
        "# \t\t\tflag = 1\n",
        "# \t\t\tbreak;\n",
        "\t\t\t\n",
        "# \t# Checking the flag variable to\n",
        "# \t# check if the string is palindrome\n",
        "# \t# or not\n",
        "# \tif flag == 0:\n",
        "# \t\tprint(\"The entered string is palindrome\")\n",
        "# \telse:\n",
        "# \t\tprint(\"The entered string is not palindrome\")\n",
        "\t\t\n",
        "# # Function to check whether the\n",
        "# # string is symmetrical or not\t\n",
        "# def symmetry(a):\n",
        "\t\n",
        "# \tn = len(a)\n",
        "# \tflag = 0\n",
        "\t\n",
        "# \t# Check if the string's length\n",
        "# \t# is odd or even\n",
        "# \tif n%2:\n",
        "# \t\tmid = n//2 +1\n",
        "# \telse:\n",
        "# \t\tmid = n//2\n",
        "\t\t\n",
        "# \tstart1 = 0\n",
        "# \tstart2 = mid\n",
        "\t\n",
        "# \twhile(start1 < mid and start2 < n):\n",
        "\t\t\n",
        "# \t\tif (a[start1]== a[start2]):\n",
        "# \t\t\tstart1 = start1 + 1\n",
        "# \t\t\tstart2 = start2 + 1\n",
        "# \t\telse:\n",
        "# \t\t\tflag = 1\n",
        "# \t\t\tbreak\n",
        "\t\n",
        "# \t# Checking the flag variable to\n",
        "# \t# check if the string is symmetrical\n",
        "# \t# or not\n",
        "# \tif flag == 0:\n",
        "# \t\tprint(\"The entered string is symmetrical\")\n",
        "# \telse:\n",
        "# \t\tprint(\"The entered string is not symmetrical\")\n",
        "\t\t\n",
        "# # Driver code\n",
        "# string = 'amaama'\n",
        "# palindrome(string)\n",
        "# symmetry(string)\n"
      ],
      "metadata": {
        "id": "Q_G-doHrc_Gm",
        "colab": {
          "base_uri": "https://localhost:8080/"
        },
        "outputId": "c6a21c9e-dc26-4090-e1dc-ac0700e53825"
      },
      "execution_count": 6,
      "outputs": [
        {
          "output_type": "stream",
          "name": "stdout",
          "text": [
            "THIS IS THE STRING\n",
            "The entered string is not symmetrical\n",
            "The entered string is not palindrome\n"
          ]
        }
      ]
    },
    {
      "cell_type": "code",
      "source": [
        "string = 'amaama'\n",
        "half = int(len(string) / 2)\n",
        "\n",
        "if len(string) % 2 == 0: # even\n",
        "\tfirst_str = string[:half]\n",
        "\tsecond_str = string[half:]\n",
        "else: # odd\n",
        "\tfirst_str = string[:half]\n",
        "\tsecond_str = string[half+1:]\n",
        "\n",
        "# symmetric\n",
        "if first_str == second_str:\n",
        "\tprint(string, 'string is symmertical')\n",
        "else:\n",
        "\tprint(string, 'string is not symmertical')\n",
        "\n",
        "# palindrome\n",
        "if first_str == second_str[::-1]: # ''.join(reversed(second_str)) [slower]\n",
        "\tprint(string, 'string is palindrome')\n",
        "else:\n",
        "\tprint(string, 'string is not palindrome')\n"
      ],
      "metadata": {
        "id": "ru0lGshWdGml",
        "colab": {
          "base_uri": "https://localhost:8080/"
        },
        "outputId": "8dd1c358-a789-4797-d8f2-7f4c53bad0ef"
      },
      "execution_count": 7,
      "outputs": [
        {
          "output_type": "stream",
          "name": "stdout",
          "text": [
            "amaama string is symmertical\n",
            "amaama string is palindrome\n"
          ]
        }
      ]
    },
    {
      "cell_type": "markdown",
      "source": [
        "### Reverse words in a given String in Python"
      ],
      "metadata": {
        "id": "moPYeWu8dHiS"
      }
    },
    {
      "cell_type": "code",
      "source": [
        "string = str(input().split())\n",
        "lst=[]\n",
        "for i in string:\n",
        "  lst[i]="
      ],
      "metadata": {
        "id": "y5g1U5xadKcV",
        "colab": {
          "base_uri": "https://localhost:8080/",
          "height": 130
        },
        "outputId": "769ed1c3-a92e-46f7-d932-054f315103fb"
      },
      "execution_count": 8,
      "outputs": [
        {
          "output_type": "error",
          "ename": "SyntaxError",
          "evalue": "ignored",
          "traceback": [
            "\u001b[0;36m  File \u001b[0;32m\"<ipython-input-8-bd7ec4c5ab14>\"\u001b[0;36m, line \u001b[0;32m4\u001b[0m\n\u001b[0;31m    lst[i]=\u001b[0m\n\u001b[0m           ^\u001b[0m\n\u001b[0;31mSyntaxError\u001b[0m\u001b[0;31m:\u001b[0m invalid syntax\n"
          ]
        }
      ]
    },
    {
      "cell_type": "markdown",
      "source": [
        "## Random"
      ],
      "metadata": {
        "id": "QntYFreFMOMX"
      }
    },
    {
      "cell_type": "markdown",
      "source": [
        "### Find the power of K nearest to N"
      ],
      "metadata": {
        "id": "8fzcZHLqMQLx"
      }
    },
    {
      "cell_type": "code",
      "source": [
        "# Given two integers N & K. The task is to find the nearest power of K for the integer N. \n",
        "#If there are two nearest powers, consider the larger one.\n",
        "\n",
        "import math\n",
        " \n",
        "# Function to find nearest power\n",
        "def nearestPowerOfK(N, K):\n",
        "     \n",
        "    # Finding log of the element\n",
        "    lg = math.log(N) // math.log(K)\n",
        " \n",
        "    # Calculating the two possible\n",
        "    # nearest values\n",
        "    a = int(pow(K, lg))\n",
        "    b = int(pow(K, lg + 1))\n",
        " \n",
        "    # Finding the closest one\n",
        "    if ((N - a) < (b - N)):\n",
        "        return a\n",
        "         \n",
        "    return b\n",
        " \n",
        "# Driver Code\n",
        "if __name__ == \"__main__\":\n",
        " \n",
        "    N = 32\n",
        "    K = 7\n",
        "     \n",
        "    print(nearestPowerOfK(N, K))\n",
        " \n",
        "# Explanation: The powers of 7 are 7, 49, 343, . . . 49 is the closest to 32 among these numbers."
      ],
      "metadata": {
        "colab": {
          "base_uri": "https://localhost:8080/"
        },
        "id": "Gx1grYQBMSNm",
        "outputId": "4dffd45d-fa3c-431e-d846-56af7c1a05a0"
      },
      "execution_count": 9,
      "outputs": [
        {
          "output_type": "stream",
          "name": "stdout",
          "text": [
            "49\n"
          ]
        }
      ]
    }
  ]
}