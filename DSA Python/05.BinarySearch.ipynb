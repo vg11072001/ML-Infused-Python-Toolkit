{
 "cells": [
  {
   "cell_type": "code",
   "execution_count": null,
   "metadata": {},
   "outputs": [],
   "source": [
    "import typing \n",
    "import collections\n",
    "import heapq\n",
    "from typing import List\n",
    "from collections import defaultdict, Counter"
   ]
  },
  {
   "cell_type": "code",
   "execution_count": null,
   "metadata": {},
   "outputs": [],
   "source": [
    "class Solution:\n",
    "    def findMin(self, nums: List[int]) -> int:\n",
    "        '''\n",
    "        153. Find Minimum in Rotated Sorted Array\n",
    "\n",
    "        get the pivot in rotated array\n",
    "        where the Middle pointer will be left sorted portion or right sorted portion\n",
    "        if our L and R pointers at the shortest portuon then nums[l]\n",
    "        already at the minimum value\n",
    "\n",
    "        In this approach, we are actively checking if the left portion or the right portion of the array is sorted, and we adjust the search range accordingly.\n",
    "        If a subarray is sorted, we can directly return the leftmost element in that range.\n",
    "        '''\n",
    "        res = nums[0]\n",
    "        l,r=0, len(nums)-1\n",
    "        while l<=r:\n",
    "            if nums[l]<nums[r]:\n",
    "                res = min(res, nums[l])\n",
    "                break\n",
    "            m = (l+r)//2\n",
    "            res = min(res, nums[m])\n",
    "\n",
    "            if nums[m]>=nums[l]:\n",
    "                l = m +1\n",
    "            else:\n",
    "                r = m -1\n",
    "\n",
    "        return res\n",
    "\n",
    "\n",
    "class Solution:\n",
    "    def findMin(self, nums: List[int]) -> int:\n",
    "        '''\n",
    "        # This approach doesn't explicitly track the minimum but adjusts the range until L and R converge on the minimum element.\n",
    "        # The logic simplifies to checking whether the middle element is in the left sorted portion or right unsorted portion.\n",
    "        '''\n",
    "        L=0\n",
    "        R=len(nums)-1\n",
    "\n",
    "        \n",
    "        while L<R:\n",
    "            mid = (L+R)//2\n",
    "            if nums[mid] > nums[R]:\n",
    "                L = mid + 1\n",
    "            else:\n",
    "                R=mid\n",
    "        return nums[L]"
   ]
  },
  {
   "cell_type": "code",
   "execution_count": null,
   "metadata": {},
   "outputs": [],
   "source": []
  }
 ],
 "metadata": {
  "language_info": {
   "name": "python"
  }
 },
 "nbformat": 4,
 "nbformat_minor": 2
}
