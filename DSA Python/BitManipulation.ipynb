{
 "cells": [
  {
   "cell_type": "code",
   "execution_count": null,
   "metadata": {},
   "outputs": [],
   "source": [
    "import typing \n",
    "import collections\n",
    "import heapq\n",
    "from typing import List\n",
    "from collections import defaultdict, Counter"
   ]
  },
  {
   "cell_type": "code",
   "execution_count": null,
   "metadata": {},
   "outputs": [],
   "source": [
    "\n",
    "# https://www.youtube.com/watch?v=yz48myznqQY\n",
    "class Solution:\n",
    "    def minBitFlips(self, start, goal):\n",
    "        res = start ^ goal\n",
    "        cnt = 0\n",
    "        print('res', res)\n",
    "        while res:\n",
    "            res &= res - 1\n",
    "            print(res)\n",
    "            cnt += 1\n",
    "        return cnt"
   ]
  },
  {
   "cell_type": "code",
   "execution_count": null,
   "metadata": {},
   "outputs": [],
   "source": [
    "class Solution:\n",
    "    def xorQueries(self, arr: List[int], queries: List[List[int]]) -> List[int]:\n",
    "        prefix = [0]\n",
    "        res = []\n",
    "        for n in arr:\n",
    "            prefix.append(prefix[-1]^n)\n",
    "        for left, right in queries:\n",
    "            # logic ---- a^b^c now to remove a: a^b^c^a = b^c ---\n",
    "            res.append(prefix[right + 1] ^ prefix[left])\n",
    "        return res\n",
    "\n",
    "### Accepted but took time ###\n",
    "class Solution:\n",
    "    def xorQueries(self, arr: List[int], queries: List[List[int]]) -> List[int]:\n",
    "\n",
    "        has = defaultdict(list)\n",
    "        res_arr = []\n",
    "        for i in queries:\n",
    "            m = i[0]\n",
    "            n = i[1]\n",
    "            res = arr[m]\n",
    "            if tuple(i) not in has:\n",
    "                while m!=n:\n",
    "                    res = res ^ arr[m+1]\n",
    "                    m+=1\n",
    "                # print('inside')\n",
    "                has[tuple(i)].append(res)\n",
    "            else:    \n",
    "                res = has[tuple(i)][0]\n",
    "            # print(has)\n",
    "            res_arr.append(res)\n",
    "            # print(res_arr)\n",
    "        return res_arr           "
   ]
  }
 ],
 "metadata": {
  "language_info": {
   "name": "python"
  }
 },
 "nbformat": 4,
 "nbformat_minor": 2
}
