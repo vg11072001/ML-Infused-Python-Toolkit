{
 "cells": [
  {
   "cell_type": "markdown",
   "metadata": {},
   "source": [
    "### Daily Challenge 08/14"
   ]
  },
  {
   "cell_type": "code",
   "execution_count": null,
   "metadata": {},
   "outputs": [],
   "source": [
    "# difference of each interger after sorting\n",
    "# store in hashmap/array\n",
    "#return kth \n",
    "\n",
    "# [1, 76,3,36,7]\n",
    "# sort [1,3,7,7,36,76]\n",
    "# binary seach for that middle integer "
   ]
  },
  {
   "cell_type": "code",
   "execution_count": null,
   "metadata": {},
   "outputs": [],
   "source": [
    "class Solution:\n",
    "    def smallestDistancePair(self, nums: List[int], k: int) -> int:\n",
    "        def check(dist: int)-> bool:\n",
    "\n",
    "            i = j = cnt = 0\n",
    "\n",
    "            for i in range(n):\n",
    "                while j < n and nums[j] - nums[i] <= dist:  \n",
    "                    cnt += j - i\n",
    "                    j += 1\n",
    "                print(\"cnt\", cnt)\n",
    "            return cnt >= k\n",
    "\n",
    "        nums.sort()\n",
    "        n, left, right = len(nums), 0, nums[-1] - nums[0]\n",
    "\n",
    "        while left < right:\n",
    "            mid = (left + right) // 2\n",
    "            print(\"***mid***\", mid)\n",
    "            if check(mid):\n",
    "                 print(\"--mid--\", mid)\n",
    "                 right = mid\n",
    "            else: left = mid + 1\n",
    "        return left\n",
    "\n",
    "print(Solution().smallestDistancePair([1, 3, 7, 7, 10], 3))\n",
    "# 0, 2, 3"
   ]
  }
 ],
 "metadata": {
  "language_info": {
   "name": "python"
  }
 },
 "nbformat": 4,
 "nbformat_minor": 2
}
