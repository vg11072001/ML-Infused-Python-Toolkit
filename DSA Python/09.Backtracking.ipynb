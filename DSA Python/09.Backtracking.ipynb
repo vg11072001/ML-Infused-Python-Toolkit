{
 "cells": [
  {
   "cell_type": "code",
   "execution_count": null,
   "metadata": {},
   "outputs": [],
   "source": [
    "import typing \n",
    "import collections\n",
    "import heapq\n",
    "from typing import List\n",
    "from collections import defaultdict, Counter\n",
    "from  functools import cmp_to_key"
   ]
  },
  {
   "cell_type": "markdown",
   "metadata": {},
   "source": [
    "### Problem Space of Permutations, Combinations, and Subsets\n",
    "\n",
    "- **Permutations**: \\( N! \\) (for \\( N \\) elements).\n",
    "\n",
    "- **Combinations**: \\( C(N, k) = \\frac{N!}{k!(N-k)!} \\) (choose \\( k \\) elements from \\( N \\)).\n",
    "\n",
    "- **Subsets**: \\( 2^N \\) (since each element can either be included or excluded from the subset).\n"
   ]
  },
  {
   "cell_type": "markdown",
   "metadata": {},
   "source": [
    "1. Iterative Approach\n",
    "* In the iterative method, we start from an empty set and progressively build subsets, combinations, or permutations by adding elements one at a time.\n",
    "* For subsets: Each element has two choices: include or exclude. You can think of this as generating all binary masks from `0` to `2^N −1` and using each mask to create a subset.\n",
    "* For permutations: We can use a loop to swap elements, progressively filling each position.\n",
    "* For combinations: Build the combinations by iteratively adding elements and ensuring each element is used only once in each combination."
   ]
  },
  {
   "cell_type": "markdown",
   "metadata": {},
   "source": [
    "2. Recursion / Backtracking\n",
    "* This is the most intuitive and widely-used method, especially in interviews. You start with an empty list, and at each recursion level, decide whether to include or exclude an element (for subsets and combinations) or swap elements (for permutations).\n",
    "* Backtracking is important to \"undo\" a choice and explore other possibilities. This ensures that the solution space is fully covered without missing any cases.\n",
    "* For subsets: Start with an empty subset and recursively include/exclude elements.\n",
    "* For combinations: Use recursion to build a combination by adding one element at a time and ensuring that future elements come from a subset of the remaining elements.\n",
    "* For permutations: Recursively swap elements until you generate all permutations."
   ]
  },
  {
   "cell_type": "markdown",
   "metadata": {},
   "source": [
    "3. Lexicographic Generation with Bitmasking\n",
    "* This method is based on generating all binary numbers from  `0` to `2^N −1`. \n",
    "* Each number corresponds to a unique subset by treating the binary digits as a mask (1 means the element is included, 0 means excluded). \\\n",
    "Advantages:\n",
    "1. It simplifies the problem since generating binary numbers is straightforward.\n",
    "2. The output is lexicographically sorted when the input is sorted.\n",
    "3. Easy to verify completeness, as all binary masks are generated.\n",
    "\n",
    "\n",
    "\n",
    "Why Bitmasking is Ideal for Interviews?\n",
    "* The bitmasking approach is ideal for problems where subsets or combinations are required, as it uses binary representation to simplify the problem and avoids recursion.\n",
    "* Additionally, it outputs solutions in lexicographical order when the input list is sorted, which is a common requirement."
   ]
  },
  {
   "cell_type": "code",
   "execution_count": null,
   "metadata": {},
   "outputs": [],
   "source": [
    "class Solution:\n",
    "    def subsets(self, nums):\n",
    "        '''\n",
    "        Cascading Approach\n",
    "        TC: O(N x 2^N)\n",
    "        the element in  array after 1st loop [] and nums[0]. \n",
    "        take an element say nums[1] create new sets by adding that element to perviously stored \n",
    "        '''\n",
    "        output = [[]]\n",
    "        for num in nums:\n",
    "            newSubsets = []\n",
    "            print(output)\n",
    "            # creating newSubset using temp which wil store previous values of output\n",
    "            for curr in output:\n",
    "                temp = curr.copy()\n",
    "                temp.append(num)\n",
    "                newSubsets.append(temp)\n",
    "            print('-', newSubsets)\n",
    "            # adding newprepared layer to output list\n",
    "            for curr in newSubsets:\n",
    "                output.append(curr)\n",
    "        return output"
   ]
  },
  {
   "cell_type": "code",
   "execution_count": null,
   "metadata": {},
   "outputs": [],
   "source": [
    "class Solution:\n",
    "    def subsets(self, nums: List[int]) -> List[List[int]]:\n",
    "        '''\n",
    "        Backtracking \n",
    "        it is only efficient for this\n",
    "        TC will be O(N x 2^N)\n",
    "        \n",
    "        The idea is to start from an empty subset and make decision of add or not add each element in the given array to it.\n",
    "        Base case will be when nums value ended, then append that subset to result.\n",
    "        \n",
    "        '''\n",
    "        \n",
    "        subset = []\n",
    "        res = []\n",
    "        def dfs(i):\n",
    "\n",
    "            if i >=len(nums):\n",
    "                res.append(subset.copy())\n",
    "                return\n",
    "\n",
    "            subset.append(nums[i])  # decision to add nums[i]\n",
    "            dfs(i+1)\n",
    "\n",
    "            subset.pop() # decision not to add nums[i]\n",
    "            dfs(i+1)\n",
    "\n",
    "\n",
    "        dfs(0)\n",
    "        return res"
   ]
  },
  {
   "cell_type": "code",
   "execution_count": null,
   "metadata": {},
   "outputs": [],
   "source": [
    "class Solution:\n",
    "    def subsets(self, nums: List[int]) -> List[List[int]]:\n",
    "        '''\n",
    "        Subsets (Lexicographic using Bitmasking):\n",
    "        '''\n",
    "        \n",
    "        \n",
    "        res = []\n",
    "        n = len(nums)\n",
    "        for i in range(2**n):\n",
    "            subset = []\n",
    "            for j in range(n):\n",
    "                if i & (1 << j):  # Check if j-th bit is set in i\n",
    "                    subset.append(nums[j])\n",
    "            res.append(subset)\n",
    "        return res\n"
   ]
  }
 ],
 "metadata": {
  "language_info": {
   "name": "python"
  }
 },
 "nbformat": 4,
 "nbformat_minor": 2
}
